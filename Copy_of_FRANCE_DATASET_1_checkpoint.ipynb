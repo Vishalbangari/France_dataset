{
  "nbformat": 4,
  "nbformat_minor": 0,
  "metadata": {
    "kernelspec": {
      "display_name": "Python 3",
      "language": "python",
      "name": "python3"
    },
    "language_info": {
      "codemirror_mode": {
        "name": "ipython",
        "version": 3
      },
      "file_extension": ".py",
      "mimetype": "text/x-python",
      "name": "python",
      "nbconvert_exporter": "python",
      "pygments_lexer": "ipython3",
      "version": "3.8.5"
    },
    "colab": {
      "name": "Copy of FRANCE DATASET 1-checkpoint.ipynb",
      "provenance": [],
      "collapsed_sections": [],
      "include_colab_link": true
    }
  },
  "cells": [
    {
      "cell_type": "markdown",
      "metadata": {
        "id": "view-in-github",
        "colab_type": "text"
      },
      "source": [
        "<a href=\"https://colab.research.google.com/github/Vishalbangari/France_dataset/blob/main/Copy_of_FRANCE_DATASET_1_checkpoint.ipynb\" target=\"_parent\"><img src=\"https://colab.research.google.com/assets/colab-badge.svg\" alt=\"Open In Colab\"/></a>"
      ]
    },
    {
      "cell_type": "code",
      "metadata": {
        "id": "u6IIowIhEYT2"
      },
      "source": [
        "#read csv data from file into memory\n",
        "\n",
        "import numpy as np # linear algebra\n",
        "import pandas as pd # data processing, CSV file I/O (e.g. pd.read_csv)\n",
        "import seaborn as sns # data visualization\n",
        "import matplotlib.pyplot as plt #more data visualization\n",
        "import warnings\n",
        "warnings.filterwarnings('ignore') # ignore warnings\n",
        "from scipy.stats import ttest_ind # useful for the t-test \n",
        "from subprocess import check_output \n",
        "plt.style.use('fivethirtyeight')\n"
      ],
      "execution_count": null,
      "outputs": []
    },
    {
      "cell_type": "code",
      "metadata": {
        "colab": {
          "base_uri": "https://localhost:8080/"
        },
        "id": "dvZxeUmTCKZN",
        "outputId": "f9453fa1-771a-4a11-fbce-5e732f1c0a1f"
      },
      "source": [
        "from google.colab import drive\n",
        "drive.mount('/content/drive')"
      ],
      "execution_count": null,
      "outputs": [
        {
          "output_type": "stream",
          "text": [
            "Drive already mounted at /content/drive; to attempt to forcibly remount, call drive.mount(\"/content/drive\", force_remount=True).\n"
          ],
          "name": "stdout"
        }
      ]
    },
    {
      "cell_type": "markdown",
      "metadata": {
        "id": "78jJj9FOEYUF"
      },
      "source": [
        "### DATE TIME CONVERSIONS"
      ]
    },
    {
      "cell_type": "code",
      "metadata": {
        "colab": {
          "base_uri": "https://localhost:8080/",
          "height": 357
        },
        "id": "EZb4qxnRgsrB",
        "outputId": "bee23b13-6c44-4a13-f454-787b87512f5a"
      },
      "source": [
        "france_w1 = pd.read_csv(r'/content/drive/MyDrive/France dataset/france_weather.csv')\n",
        "france_w1.rename(columns={\"Unnamed: 0\": \"Unnamed_0\"}, inplace=True)\n",
        "\n",
        "\n",
        "france_w1.head(10)"
      ],
      "execution_count": null,
      "outputs": [
        {
          "output_type": "execute_result",
          "data": {
            "text/html": [
              "<div>\n",
              "<style scoped>\n",
              "    .dataframe tbody tr th:only-of-type {\n",
              "        vertical-align: middle;\n",
              "    }\n",
              "\n",
              "    .dataframe tbody tr th {\n",
              "        vertical-align: top;\n",
              "    }\n",
              "\n",
              "    .dataframe thead th {\n",
              "        text-align: right;\n",
              "    }\n",
              "</style>\n",
              "<table border=\"1\" class=\"dataframe\">\n",
              "  <thead>\n",
              "    <tr style=\"text-align: right;\">\n",
              "      <th></th>\n",
              "      <th>Unnamed_0</th>\n",
              "      <th>Temperature</th>\n",
              "      <th>Wind_speed</th>\n",
              "      <th>Description</th>\n",
              "      <th>Weather</th>\n",
              "      <th>feels_like</th>\n",
              "      <th>name</th>\n",
              "      <th>temp_min</th>\n",
              "      <th>temp_max</th>\n",
              "      <th>pressure</th>\n",
              "      <th>humidity</th>\n",
              "      <th>visibility</th>\n",
              "      <th>sunrise</th>\n",
              "      <th>sunset</th>\n",
              "      <th>Date</th>\n",
              "      <th>Time</th>\n",
              "    </tr>\n",
              "  </thead>\n",
              "  <tbody>\n",
              "    <tr>\n",
              "      <th>0</th>\n",
              "      <td>1</td>\n",
              "      <td>301.15</td>\n",
              "      <td>2.6</td>\n",
              "      <td>clear sky</td>\n",
              "      <td>Clear</td>\n",
              "      <td>307.02</td>\n",
              "      <td>France</td>\n",
              "      <td>301.15</td>\n",
              "      <td>301.15</td>\n",
              "      <td>1009</td>\n",
              "      <td>94</td>\n",
              "      <td>6000</td>\n",
              "      <td>1582093790</td>\n",
              "      <td>1582136891</td>\n",
              "      <td>19/2/20</td>\n",
              "      <td>4:14:12</td>\n",
              "    </tr>\n",
              "    <tr>\n",
              "      <th>1</th>\n",
              "      <td>6</td>\n",
              "      <td>301.15</td>\n",
              "      <td>2.6</td>\n",
              "      <td>clear sky</td>\n",
              "      <td>Clear</td>\n",
              "      <td>307.02</td>\n",
              "      <td>France</td>\n",
              "      <td>301.15</td>\n",
              "      <td>301.15</td>\n",
              "      <td>1008</td>\n",
              "      <td>94</td>\n",
              "      <td>6000</td>\n",
              "      <td>1582093790</td>\n",
              "      <td>1582136891</td>\n",
              "      <td>19/2/20</td>\n",
              "      <td>4:24:12</td>\n",
              "    </tr>\n",
              "    <tr>\n",
              "      <th>2</th>\n",
              "      <td>11</td>\n",
              "      <td>301.15</td>\n",
              "      <td>2.6</td>\n",
              "      <td>clear sky</td>\n",
              "      <td>Clear</td>\n",
              "      <td>307.02</td>\n",
              "      <td>France</td>\n",
              "      <td>301.15</td>\n",
              "      <td>301.15</td>\n",
              "      <td>1008</td>\n",
              "      <td>94</td>\n",
              "      <td>6000</td>\n",
              "      <td>1582093790</td>\n",
              "      <td>1582136891</td>\n",
              "      <td>19/2/20</td>\n",
              "      <td>4:34:12</td>\n",
              "    </tr>\n",
              "    <tr>\n",
              "      <th>3</th>\n",
              "      <td>16</td>\n",
              "      <td>301.15</td>\n",
              "      <td>2.6</td>\n",
              "      <td>clear sky</td>\n",
              "      <td>Clear</td>\n",
              "      <td>307.02</td>\n",
              "      <td>France</td>\n",
              "      <td>301.15</td>\n",
              "      <td>301.15</td>\n",
              "      <td>1008</td>\n",
              "      <td>94</td>\n",
              "      <td>6000</td>\n",
              "      <td>1582093790</td>\n",
              "      <td>1582136891</td>\n",
              "      <td>19/2/20</td>\n",
              "      <td>4:44:12</td>\n",
              "    </tr>\n",
              "    <tr>\n",
              "      <th>4</th>\n",
              "      <td>21</td>\n",
              "      <td>301.15</td>\n",
              "      <td>2.6</td>\n",
              "      <td>clear sky</td>\n",
              "      <td>Clear</td>\n",
              "      <td>307.02</td>\n",
              "      <td>France</td>\n",
              "      <td>301.15</td>\n",
              "      <td>301.15</td>\n",
              "      <td>1008</td>\n",
              "      <td>94</td>\n",
              "      <td>6000</td>\n",
              "      <td>1582093790</td>\n",
              "      <td>1582136891</td>\n",
              "      <td>19/2/20</td>\n",
              "      <td>4:54:13</td>\n",
              "    </tr>\n",
              "    <tr>\n",
              "      <th>5</th>\n",
              "      <td>26</td>\n",
              "      <td>301.15</td>\n",
              "      <td>2.6</td>\n",
              "      <td>clear sky</td>\n",
              "      <td>Clear</td>\n",
              "      <td>307.02</td>\n",
              "      <td>France</td>\n",
              "      <td>301.15</td>\n",
              "      <td>301.15</td>\n",
              "      <td>1008</td>\n",
              "      <td>94</td>\n",
              "      <td>6000</td>\n",
              "      <td>1582093790</td>\n",
              "      <td>1582136891</td>\n",
              "      <td>19/2/20</td>\n",
              "      <td>5:04:12</td>\n",
              "    </tr>\n",
              "    <tr>\n",
              "      <th>6</th>\n",
              "      <td>31</td>\n",
              "      <td>301.15</td>\n",
              "      <td>2.6</td>\n",
              "      <td>clear sky</td>\n",
              "      <td>Clear</td>\n",
              "      <td>307.02</td>\n",
              "      <td>France</td>\n",
              "      <td>301.15</td>\n",
              "      <td>301.15</td>\n",
              "      <td>1008</td>\n",
              "      <td>94</td>\n",
              "      <td>6000</td>\n",
              "      <td>1582093790</td>\n",
              "      <td>1582136891</td>\n",
              "      <td>19/2/20</td>\n",
              "      <td>5:14:13</td>\n",
              "    </tr>\n",
              "    <tr>\n",
              "      <th>7</th>\n",
              "      <td>36</td>\n",
              "      <td>301.15</td>\n",
              "      <td>2.6</td>\n",
              "      <td>clear sky</td>\n",
              "      <td>Clear</td>\n",
              "      <td>307.02</td>\n",
              "      <td>France</td>\n",
              "      <td>301.15</td>\n",
              "      <td>301.15</td>\n",
              "      <td>1008</td>\n",
              "      <td>94</td>\n",
              "      <td>6000</td>\n",
              "      <td>1582093790</td>\n",
              "      <td>1582136891</td>\n",
              "      <td>19/2/20</td>\n",
              "      <td>5:24:12</td>\n",
              "    </tr>\n",
              "    <tr>\n",
              "      <th>8</th>\n",
              "      <td>41</td>\n",
              "      <td>301.15</td>\n",
              "      <td>2.1</td>\n",
              "      <td>clear sky</td>\n",
              "      <td>Clear</td>\n",
              "      <td>307.37</td>\n",
              "      <td>France</td>\n",
              "      <td>301.15</td>\n",
              "      <td>301.15</td>\n",
              "      <td>1008</td>\n",
              "      <td>94</td>\n",
              "      <td>6000</td>\n",
              "      <td>1582093790</td>\n",
              "      <td>1582136891</td>\n",
              "      <td>19/2/20</td>\n",
              "      <td>5:34:12</td>\n",
              "    </tr>\n",
              "    <tr>\n",
              "      <th>9</th>\n",
              "      <td>46</td>\n",
              "      <td>301.15</td>\n",
              "      <td>2.1</td>\n",
              "      <td>clear sky</td>\n",
              "      <td>Clear</td>\n",
              "      <td>307.37</td>\n",
              "      <td>France</td>\n",
              "      <td>301.15</td>\n",
              "      <td>301.15</td>\n",
              "      <td>1008</td>\n",
              "      <td>94</td>\n",
              "      <td>6000</td>\n",
              "      <td>1582093790</td>\n",
              "      <td>1582136891</td>\n",
              "      <td>19/2/20</td>\n",
              "      <td>5:44:12</td>\n",
              "    </tr>\n",
              "  </tbody>\n",
              "</table>\n",
              "</div>"
            ],
            "text/plain": [
              "   Unnamed_0  Temperature  Wind_speed  ...      sunset     Date     Time\n",
              "0          1       301.15         2.6  ...  1582136891  19/2/20  4:14:12\n",
              "1          6       301.15         2.6  ...  1582136891  19/2/20  4:24:12\n",
              "2         11       301.15         2.6  ...  1582136891  19/2/20  4:34:12\n",
              "3         16       301.15         2.6  ...  1582136891  19/2/20  4:44:12\n",
              "4         21       301.15         2.6  ...  1582136891  19/2/20  4:54:13\n",
              "5         26       301.15         2.6  ...  1582136891  19/2/20  5:04:12\n",
              "6         31       301.15         2.6  ...  1582136891  19/2/20  5:14:13\n",
              "7         36       301.15         2.6  ...  1582136891  19/2/20  5:24:12\n",
              "8         41       301.15         2.1  ...  1582136891  19/2/20  5:34:12\n",
              "9         46       301.15         2.1  ...  1582136891  19/2/20  5:44:12\n",
              "\n",
              "[10 rows x 16 columns]"
            ]
          },
          "metadata": {
            "tags": []
          },
          "execution_count": 131
        }
      ]
    },
    {
      "cell_type": "code",
      "metadata": {
        "id": "uy1G4ngcEYUF",
        "colab": {
          "base_uri": "https://localhost:8080/"
        },
        "outputId": "7d73e773-e7e0-476a-bc7b-9d569c001596"
      },
      "source": [
        "france_w1.Date"
      ],
      "execution_count": null,
      "outputs": [
        {
          "output_type": "execute_result",
          "data": {
            "text/plain": [
              "0       19/2/20\n",
              "1       19/2/20\n",
              "2       19/2/20\n",
              "3       19/2/20\n",
              "4       19/2/20\n",
              "         ...   \n",
              "7466    17/4/20\n",
              "7467    17/4/20\n",
              "7468    17/4/20\n",
              "7469    17/4/20\n",
              "7470    17/4/20\n",
              "Name: Date, Length: 7471, dtype: object"
            ]
          },
          "metadata": {
            "tags": []
          },
          "execution_count": 65
        }
      ]
    },
    {
      "cell_type": "code",
      "metadata": {
        "id": "rRPqIWVxEYUG"
      },
      "source": [
        "#  CHANGING DATE TO TIME\n",
        "\n",
        "def change_into_datetime(col):\n",
        "    france_w1[col] = pd.to_datetime(france_w1[col])\n",
        "\n",
        "for i in ['Date', 'Time']:\n",
        "    change_into_datetime(i)\n",
        "\n",
        "france_w1['day'] = france_w1['Date'].dt.day\n",
        "france_w1['month'] = france_w1['Date'].dt.month\n",
        "france_w1['year'] = france_w1['Date'].dt.year\n",
        "\n",
        "def extract_hour(df,col):\n",
        "    df[col+\"_hour\"]=df[col].dt.hour\n",
        "\n",
        "def extract_min(df,col):\n",
        "    df[col+\"_minute\"]=df[col].dt.minute\n",
        "    \n",
        "def drop_column(df,col):\n",
        "    df.drop(col,axis=1,inplace=True)\n",
        "\n",
        "\n",
        "extract_hour(france_w1,'Time')\n",
        "extract_min(france_w1,'Time')\n",
        "drop_column(france_w1,'Time')"
      ],
      "execution_count": null,
      "outputs": []
    },
    {
      "cell_type": "code",
      "metadata": {
        "colab": {
          "base_uri": "https://localhost:8080/",
          "height": 307
        },
        "id": "iyxxUSPFhpYY",
        "outputId": "b5279764-de06-44d8-83d9-59c8288abbb2"
      },
      "source": [
        "france_w1.head()"
      ],
      "execution_count": null,
      "outputs": [
        {
          "output_type": "execute_result",
          "data": {
            "text/html": [
              "<div>\n",
              "<style scoped>\n",
              "    .dataframe tbody tr th:only-of-type {\n",
              "        vertical-align: middle;\n",
              "    }\n",
              "\n",
              "    .dataframe tbody tr th {\n",
              "        vertical-align: top;\n",
              "    }\n",
              "\n",
              "    .dataframe thead th {\n",
              "        text-align: right;\n",
              "    }\n",
              "</style>\n",
              "<table border=\"1\" class=\"dataframe\">\n",
              "  <thead>\n",
              "    <tr style=\"text-align: right;\">\n",
              "      <th></th>\n",
              "      <th>Unnamed_0</th>\n",
              "      <th>Temperature</th>\n",
              "      <th>Wind_speed</th>\n",
              "      <th>Description</th>\n",
              "      <th>Weather</th>\n",
              "      <th>feels_like</th>\n",
              "      <th>name</th>\n",
              "      <th>temp_min</th>\n",
              "      <th>temp_max</th>\n",
              "      <th>pressure</th>\n",
              "      <th>humidity</th>\n",
              "      <th>visibility</th>\n",
              "      <th>sunrise</th>\n",
              "      <th>sunset</th>\n",
              "      <th>Date</th>\n",
              "      <th>day</th>\n",
              "      <th>month</th>\n",
              "      <th>year</th>\n",
              "      <th>Time_hour</th>\n",
              "      <th>Time_minute</th>\n",
              "    </tr>\n",
              "  </thead>\n",
              "  <tbody>\n",
              "    <tr>\n",
              "      <th>0</th>\n",
              "      <td>1</td>\n",
              "      <td>301.15</td>\n",
              "      <td>2.6</td>\n",
              "      <td>clear sky</td>\n",
              "      <td>Clear</td>\n",
              "      <td>307.02</td>\n",
              "      <td>France</td>\n",
              "      <td>301.15</td>\n",
              "      <td>301.15</td>\n",
              "      <td>1009</td>\n",
              "      <td>94</td>\n",
              "      <td>6000</td>\n",
              "      <td>1582093790</td>\n",
              "      <td>1582136891</td>\n",
              "      <td>2020-02-19</td>\n",
              "      <td>19</td>\n",
              "      <td>2</td>\n",
              "      <td>2020</td>\n",
              "      <td>4</td>\n",
              "      <td>14</td>\n",
              "    </tr>\n",
              "    <tr>\n",
              "      <th>1</th>\n",
              "      <td>6</td>\n",
              "      <td>301.15</td>\n",
              "      <td>2.6</td>\n",
              "      <td>clear sky</td>\n",
              "      <td>Clear</td>\n",
              "      <td>307.02</td>\n",
              "      <td>France</td>\n",
              "      <td>301.15</td>\n",
              "      <td>301.15</td>\n",
              "      <td>1008</td>\n",
              "      <td>94</td>\n",
              "      <td>6000</td>\n",
              "      <td>1582093790</td>\n",
              "      <td>1582136891</td>\n",
              "      <td>2020-02-19</td>\n",
              "      <td>19</td>\n",
              "      <td>2</td>\n",
              "      <td>2020</td>\n",
              "      <td>4</td>\n",
              "      <td>24</td>\n",
              "    </tr>\n",
              "    <tr>\n",
              "      <th>2</th>\n",
              "      <td>11</td>\n",
              "      <td>301.15</td>\n",
              "      <td>2.6</td>\n",
              "      <td>clear sky</td>\n",
              "      <td>Clear</td>\n",
              "      <td>307.02</td>\n",
              "      <td>France</td>\n",
              "      <td>301.15</td>\n",
              "      <td>301.15</td>\n",
              "      <td>1008</td>\n",
              "      <td>94</td>\n",
              "      <td>6000</td>\n",
              "      <td>1582093790</td>\n",
              "      <td>1582136891</td>\n",
              "      <td>2020-02-19</td>\n",
              "      <td>19</td>\n",
              "      <td>2</td>\n",
              "      <td>2020</td>\n",
              "      <td>4</td>\n",
              "      <td>34</td>\n",
              "    </tr>\n",
              "    <tr>\n",
              "      <th>3</th>\n",
              "      <td>16</td>\n",
              "      <td>301.15</td>\n",
              "      <td>2.6</td>\n",
              "      <td>clear sky</td>\n",
              "      <td>Clear</td>\n",
              "      <td>307.02</td>\n",
              "      <td>France</td>\n",
              "      <td>301.15</td>\n",
              "      <td>301.15</td>\n",
              "      <td>1008</td>\n",
              "      <td>94</td>\n",
              "      <td>6000</td>\n",
              "      <td>1582093790</td>\n",
              "      <td>1582136891</td>\n",
              "      <td>2020-02-19</td>\n",
              "      <td>19</td>\n",
              "      <td>2</td>\n",
              "      <td>2020</td>\n",
              "      <td>4</td>\n",
              "      <td>44</td>\n",
              "    </tr>\n",
              "    <tr>\n",
              "      <th>4</th>\n",
              "      <td>21</td>\n",
              "      <td>301.15</td>\n",
              "      <td>2.6</td>\n",
              "      <td>clear sky</td>\n",
              "      <td>Clear</td>\n",
              "      <td>307.02</td>\n",
              "      <td>France</td>\n",
              "      <td>301.15</td>\n",
              "      <td>301.15</td>\n",
              "      <td>1008</td>\n",
              "      <td>94</td>\n",
              "      <td>6000</td>\n",
              "      <td>1582093790</td>\n",
              "      <td>1582136891</td>\n",
              "      <td>2020-02-19</td>\n",
              "      <td>19</td>\n",
              "      <td>2</td>\n",
              "      <td>2020</td>\n",
              "      <td>4</td>\n",
              "      <td>54</td>\n",
              "    </tr>\n",
              "  </tbody>\n",
              "</table>\n",
              "</div>"
            ],
            "text/plain": [
              "   Unnamed_0  Temperature  Wind_speed  ...  year Time_hour  Time_minute\n",
              "0          1       301.15         2.6  ...  2020         4           14\n",
              "1          6       301.15         2.6  ...  2020         4           24\n",
              "2         11       301.15         2.6  ...  2020         4           34\n",
              "3         16       301.15         2.6  ...  2020         4           44\n",
              "4         21       301.15         2.6  ...  2020         4           54\n",
              "\n",
              "[5 rows x 20 columns]"
            ]
          },
          "metadata": {
            "tags": []
          },
          "execution_count": 67
        }
      ]
    },
    {
      "cell_type": "code",
      "metadata": {
        "colab": {
          "base_uri": "https://localhost:8080/",
          "height": 307
        },
        "id": "we6P1WqzCt-s",
        "outputId": "1eb53927-311b-4d67-f6e5-3356964420fb"
      },
      "source": [
        "france_w1.tail()"
      ],
      "execution_count": null,
      "outputs": [
        {
          "output_type": "execute_result",
          "data": {
            "text/html": [
              "<div>\n",
              "<style scoped>\n",
              "    .dataframe tbody tr th:only-of-type {\n",
              "        vertical-align: middle;\n",
              "    }\n",
              "\n",
              "    .dataframe tbody tr th {\n",
              "        vertical-align: top;\n",
              "    }\n",
              "\n",
              "    .dataframe thead th {\n",
              "        text-align: right;\n",
              "    }\n",
              "</style>\n",
              "<table border=\"1\" class=\"dataframe\">\n",
              "  <thead>\n",
              "    <tr style=\"text-align: right;\">\n",
              "      <th></th>\n",
              "      <th>Unnamed_0</th>\n",
              "      <th>Temperature</th>\n",
              "      <th>Wind_speed</th>\n",
              "      <th>Description</th>\n",
              "      <th>Weather</th>\n",
              "      <th>feels_like</th>\n",
              "      <th>name</th>\n",
              "      <th>temp_min</th>\n",
              "      <th>temp_max</th>\n",
              "      <th>pressure</th>\n",
              "      <th>humidity</th>\n",
              "      <th>visibility</th>\n",
              "      <th>sunrise</th>\n",
              "      <th>sunset</th>\n",
              "      <th>Date</th>\n",
              "      <th>day</th>\n",
              "      <th>month</th>\n",
              "      <th>year</th>\n",
              "      <th>Time_hour</th>\n",
              "      <th>Time_minute</th>\n",
              "    </tr>\n",
              "  </thead>\n",
              "  <tbody>\n",
              "    <tr>\n",
              "      <th>7466</th>\n",
              "      <td>37748</td>\n",
              "      <td>302.15</td>\n",
              "      <td>6.7</td>\n",
              "      <td>few clouds</td>\n",
              "      <td>Clouds</td>\n",
              "      <td>304.40</td>\n",
              "      <td>France</td>\n",
              "      <td>302.15</td>\n",
              "      <td>302.15</td>\n",
              "      <td>1008</td>\n",
              "      <td>83</td>\n",
              "      <td>10000</td>\n",
              "      <td>1587103615</td>\n",
              "      <td>1587147692</td>\n",
              "      <td>2020-04-17</td>\n",
              "      <td>17</td>\n",
              "      <td>4</td>\n",
              "      <td>2020</td>\n",
              "      <td>18</td>\n",
              "      <td>4</td>\n",
              "    </tr>\n",
              "    <tr>\n",
              "      <th>7467</th>\n",
              "      <td>37750</td>\n",
              "      <td>302.15</td>\n",
              "      <td>6.7</td>\n",
              "      <td>few clouds</td>\n",
              "      <td>Clouds</td>\n",
              "      <td>304.40</td>\n",
              "      <td>France</td>\n",
              "      <td>302.15</td>\n",
              "      <td>302.15</td>\n",
              "      <td>1008</td>\n",
              "      <td>83</td>\n",
              "      <td>10000</td>\n",
              "      <td>1587103615</td>\n",
              "      <td>1587147692</td>\n",
              "      <td>2020-04-17</td>\n",
              "      <td>17</td>\n",
              "      <td>4</td>\n",
              "      <td>2020</td>\n",
              "      <td>18</td>\n",
              "      <td>14</td>\n",
              "    </tr>\n",
              "    <tr>\n",
              "      <th>7468</th>\n",
              "      <td>37752</td>\n",
              "      <td>302.15</td>\n",
              "      <td>6.2</td>\n",
              "      <td>few clouds</td>\n",
              "      <td>Clouds</td>\n",
              "      <td>304.22</td>\n",
              "      <td>France</td>\n",
              "      <td>302.15</td>\n",
              "      <td>302.15</td>\n",
              "      <td>1008</td>\n",
              "      <td>79</td>\n",
              "      <td>10000</td>\n",
              "      <td>1587103615</td>\n",
              "      <td>1587147692</td>\n",
              "      <td>2020-04-17</td>\n",
              "      <td>17</td>\n",
              "      <td>4</td>\n",
              "      <td>2020</td>\n",
              "      <td>18</td>\n",
              "      <td>24</td>\n",
              "    </tr>\n",
              "    <tr>\n",
              "      <th>7469</th>\n",
              "      <td>37754</td>\n",
              "      <td>302.15</td>\n",
              "      <td>6.2</td>\n",
              "      <td>few clouds</td>\n",
              "      <td>Clouds</td>\n",
              "      <td>304.22</td>\n",
              "      <td>France</td>\n",
              "      <td>302.15</td>\n",
              "      <td>302.15</td>\n",
              "      <td>1008</td>\n",
              "      <td>79</td>\n",
              "      <td>10000</td>\n",
              "      <td>1587103615</td>\n",
              "      <td>1587147692</td>\n",
              "      <td>2020-04-17</td>\n",
              "      <td>17</td>\n",
              "      <td>4</td>\n",
              "      <td>2020</td>\n",
              "      <td>18</td>\n",
              "      <td>34</td>\n",
              "    </tr>\n",
              "    <tr>\n",
              "      <th>7470</th>\n",
              "      <td>37756</td>\n",
              "      <td>302.15</td>\n",
              "      <td>6.2</td>\n",
              "      <td>few clouds</td>\n",
              "      <td>Clouds</td>\n",
              "      <td>304.22</td>\n",
              "      <td>France</td>\n",
              "      <td>302.15</td>\n",
              "      <td>302.15</td>\n",
              "      <td>1008</td>\n",
              "      <td>79</td>\n",
              "      <td>10000</td>\n",
              "      <td>1587103615</td>\n",
              "      <td>1587147692</td>\n",
              "      <td>2020-04-17</td>\n",
              "      <td>17</td>\n",
              "      <td>4</td>\n",
              "      <td>2020</td>\n",
              "      <td>18</td>\n",
              "      <td>44</td>\n",
              "    </tr>\n",
              "  </tbody>\n",
              "</table>\n",
              "</div>"
            ],
            "text/plain": [
              "      Unnamed_0  Temperature  Wind_speed  ...  year Time_hour  Time_minute\n",
              "7466      37748       302.15         6.7  ...  2020        18            4\n",
              "7467      37750       302.15         6.7  ...  2020        18           14\n",
              "7468      37752       302.15         6.2  ...  2020        18           24\n",
              "7469      37754       302.15         6.2  ...  2020        18           34\n",
              "7470      37756       302.15         6.2  ...  2020        18           44\n",
              "\n",
              "[5 rows x 20 columns]"
            ]
          },
          "metadata": {
            "tags": []
          },
          "execution_count": 68
        }
      ]
    },
    {
      "cell_type": "code",
      "metadata": {
        "colab": {
          "base_uri": "https://localhost:8080/"
        },
        "id": "-cwyQ52tDH4-",
        "outputId": "66b5245b-efc9-4d19-e78c-3a832389aea2"
      },
      "source": [
        "cat_col=[col for col in france_w1.columns if france_w1[col].dtype=='O']\n",
        "cat_col"
      ],
      "execution_count": null,
      "outputs": [
        {
          "output_type": "execute_result",
          "data": {
            "text/plain": [
              "['Description', 'Weather', 'name']"
            ]
          },
          "metadata": {
            "tags": []
          },
          "execution_count": 69
        }
      ]
    },
    {
      "cell_type": "code",
      "metadata": {
        "colab": {
          "base_uri": "https://localhost:8080/",
          "height": 203
        },
        "id": "R0GeVBGHDHzf",
        "outputId": "ffbc7999-e435-4c3e-854d-ff6e8f1a0815"
      },
      "source": [
        "categorical=france_w1[cat_col]\n",
        "categorical.head()"
      ],
      "execution_count": null,
      "outputs": [
        {
          "output_type": "execute_result",
          "data": {
            "text/html": [
              "<div>\n",
              "<style scoped>\n",
              "    .dataframe tbody tr th:only-of-type {\n",
              "        vertical-align: middle;\n",
              "    }\n",
              "\n",
              "    .dataframe tbody tr th {\n",
              "        vertical-align: top;\n",
              "    }\n",
              "\n",
              "    .dataframe thead th {\n",
              "        text-align: right;\n",
              "    }\n",
              "</style>\n",
              "<table border=\"1\" class=\"dataframe\">\n",
              "  <thead>\n",
              "    <tr style=\"text-align: right;\">\n",
              "      <th></th>\n",
              "      <th>Description</th>\n",
              "      <th>Weather</th>\n",
              "      <th>name</th>\n",
              "    </tr>\n",
              "  </thead>\n",
              "  <tbody>\n",
              "    <tr>\n",
              "      <th>0</th>\n",
              "      <td>clear sky</td>\n",
              "      <td>Clear</td>\n",
              "      <td>France</td>\n",
              "    </tr>\n",
              "    <tr>\n",
              "      <th>1</th>\n",
              "      <td>clear sky</td>\n",
              "      <td>Clear</td>\n",
              "      <td>France</td>\n",
              "    </tr>\n",
              "    <tr>\n",
              "      <th>2</th>\n",
              "      <td>clear sky</td>\n",
              "      <td>Clear</td>\n",
              "      <td>France</td>\n",
              "    </tr>\n",
              "    <tr>\n",
              "      <th>3</th>\n",
              "      <td>clear sky</td>\n",
              "      <td>Clear</td>\n",
              "      <td>France</td>\n",
              "    </tr>\n",
              "    <tr>\n",
              "      <th>4</th>\n",
              "      <td>clear sky</td>\n",
              "      <td>Clear</td>\n",
              "      <td>France</td>\n",
              "    </tr>\n",
              "  </tbody>\n",
              "</table>\n",
              "</div>"
            ],
            "text/plain": [
              "  Description Weather    name\n",
              "0   clear sky   Clear  France\n",
              "1   clear sky   Clear  France\n",
              "2   clear sky   Clear  France\n",
              "3   clear sky   Clear  France\n",
              "4   clear sky   Clear  France"
            ]
          },
          "metadata": {
            "tags": []
          },
          "execution_count": 70
        }
      ]
    },
    {
      "cell_type": "code",
      "metadata": {
        "colab": {
          "base_uri": "https://localhost:8080/"
        },
        "id": "x6yzGPyUDHwR",
        "outputId": "64510634-c0ca-4c9b-f2f1-c915fff93bbf"
      },
      "source": [
        "categorical['Description'].value_counts()"
      ],
      "execution_count": null,
      "outputs": [
        {
          "output_type": "execute_result",
          "data": {
            "text/plain": [
              "few clouds                      4160\n",
              "scattered clouds                1467\n",
              "broken clouds                    808\n",
              "light rain                       294\n",
              "clear sky                        230\n",
              "thunderstorm                     207\n",
              "overcast clouds                  190\n",
              "moderate rain                     51\n",
              "thunderstorm with light rain      40\n",
              "mist                              12\n",
              "thunderstorm with rain             9\n",
              "thunderstorm with heavy rain       3\n",
              "Name: Description, dtype: int64"
            ]
          },
          "metadata": {
            "tags": []
          },
          "execution_count": 71
        }
      ]
    },
    {
      "cell_type": "code",
      "metadata": {
        "colab": {
          "base_uri": "https://localhost:8080/"
        },
        "id": "WQ6ccDcvDHqm",
        "outputId": "8b4f0916-6c3b-48e5-c901-d03685623cd0"
      },
      "source": [
        "categorical['Weather'].value_counts()"
      ],
      "execution_count": null,
      "outputs": [
        {
          "output_type": "execute_result",
          "data": {
            "text/plain": [
              "Clouds          6625\n",
              "Rain             345\n",
              "Thunderstorm     259\n",
              "Clear            230\n",
              "Mist              12\n",
              "Name: Weather, dtype: int64"
            ]
          },
          "metadata": {
            "tags": []
          },
          "execution_count": 72
        }
      ]
    },
    {
      "cell_type": "code",
      "metadata": {
        "colab": {
          "base_uri": "https://localhost:8080/"
        },
        "id": "FhiIr_htDHkh",
        "outputId": "0794ce57-fa3d-43ce-81d9-8383476d9b82"
      },
      "source": [
        "len(categorical['Description'].unique())"
      ],
      "execution_count": null,
      "outputs": [
        {
          "output_type": "execute_result",
          "data": {
            "text/plain": [
              "12"
            ]
          },
          "metadata": {
            "tags": []
          },
          "execution_count": 73
        }
      ]
    },
    {
      "cell_type": "code",
      "metadata": {
        "colab": {
          "base_uri": "https://localhost:8080/",
          "height": 220
        },
        "id": "n7hqsda7DHgs",
        "outputId": "d94d83fe-89cc-4efd-9253-ef7b4e71b06b"
      },
      "source": [
        "# As Description is Nominal Categorical data we will perform OneHotEncoding\n",
        "Description=pd.get_dummies(categorical['Description'], drop_first=True)\n",
        "Description.head()"
      ],
      "execution_count": null,
      "outputs": [
        {
          "output_type": "execute_result",
          "data": {
            "text/html": [
              "<div>\n",
              "<style scoped>\n",
              "    .dataframe tbody tr th:only-of-type {\n",
              "        vertical-align: middle;\n",
              "    }\n",
              "\n",
              "    .dataframe tbody tr th {\n",
              "        vertical-align: top;\n",
              "    }\n",
              "\n",
              "    .dataframe thead th {\n",
              "        text-align: right;\n",
              "    }\n",
              "</style>\n",
              "<table border=\"1\" class=\"dataframe\">\n",
              "  <thead>\n",
              "    <tr style=\"text-align: right;\">\n",
              "      <th></th>\n",
              "      <th>clear sky</th>\n",
              "      <th>few clouds</th>\n",
              "      <th>light rain</th>\n",
              "      <th>mist</th>\n",
              "      <th>moderate rain</th>\n",
              "      <th>overcast clouds</th>\n",
              "      <th>scattered clouds</th>\n",
              "      <th>thunderstorm</th>\n",
              "      <th>thunderstorm with heavy rain</th>\n",
              "      <th>thunderstorm with light rain</th>\n",
              "      <th>thunderstorm with rain</th>\n",
              "    </tr>\n",
              "  </thead>\n",
              "  <tbody>\n",
              "    <tr>\n",
              "      <th>0</th>\n",
              "      <td>1</td>\n",
              "      <td>0</td>\n",
              "      <td>0</td>\n",
              "      <td>0</td>\n",
              "      <td>0</td>\n",
              "      <td>0</td>\n",
              "      <td>0</td>\n",
              "      <td>0</td>\n",
              "      <td>0</td>\n",
              "      <td>0</td>\n",
              "      <td>0</td>\n",
              "    </tr>\n",
              "    <tr>\n",
              "      <th>1</th>\n",
              "      <td>1</td>\n",
              "      <td>0</td>\n",
              "      <td>0</td>\n",
              "      <td>0</td>\n",
              "      <td>0</td>\n",
              "      <td>0</td>\n",
              "      <td>0</td>\n",
              "      <td>0</td>\n",
              "      <td>0</td>\n",
              "      <td>0</td>\n",
              "      <td>0</td>\n",
              "    </tr>\n",
              "    <tr>\n",
              "      <th>2</th>\n",
              "      <td>1</td>\n",
              "      <td>0</td>\n",
              "      <td>0</td>\n",
              "      <td>0</td>\n",
              "      <td>0</td>\n",
              "      <td>0</td>\n",
              "      <td>0</td>\n",
              "      <td>0</td>\n",
              "      <td>0</td>\n",
              "      <td>0</td>\n",
              "      <td>0</td>\n",
              "    </tr>\n",
              "    <tr>\n",
              "      <th>3</th>\n",
              "      <td>1</td>\n",
              "      <td>0</td>\n",
              "      <td>0</td>\n",
              "      <td>0</td>\n",
              "      <td>0</td>\n",
              "      <td>0</td>\n",
              "      <td>0</td>\n",
              "      <td>0</td>\n",
              "      <td>0</td>\n",
              "      <td>0</td>\n",
              "      <td>0</td>\n",
              "    </tr>\n",
              "    <tr>\n",
              "      <th>4</th>\n",
              "      <td>1</td>\n",
              "      <td>0</td>\n",
              "      <td>0</td>\n",
              "      <td>0</td>\n",
              "      <td>0</td>\n",
              "      <td>0</td>\n",
              "      <td>0</td>\n",
              "      <td>0</td>\n",
              "      <td>0</td>\n",
              "      <td>0</td>\n",
              "      <td>0</td>\n",
              "    </tr>\n",
              "  </tbody>\n",
              "</table>\n",
              "</div>"
            ],
            "text/plain": [
              "   clear sky  few clouds  ...  thunderstorm with light rain  thunderstorm with rain\n",
              "0          1           0  ...                             0                       0\n",
              "1          1           0  ...                             0                       0\n",
              "2          1           0  ...                             0                       0\n",
              "3          1           0  ...                             0                       0\n",
              "4          1           0  ...                             0                       0\n",
              "\n",
              "[5 rows x 11 columns]"
            ]
          },
          "metadata": {
            "tags": []
          },
          "execution_count": 74
        }
      ]
    },
    {
      "cell_type": "code",
      "metadata": {
        "colab": {
          "base_uri": "https://localhost:8080/",
          "height": 203
        },
        "id": "E6jrX3PwDHeJ",
        "outputId": "1859698a-4aea-4969-e511-a9d5c01f9d4b"
      },
      "source": [
        "# As Weather is Nominal Categorical data we will perform OneHotEncoding\n",
        "Weather=pd.get_dummies(categorical['Weather'], drop_first=True)\n",
        "Weather.head()"
      ],
      "execution_count": null,
      "outputs": [
        {
          "output_type": "execute_result",
          "data": {
            "text/html": [
              "<div>\n",
              "<style scoped>\n",
              "    .dataframe tbody tr th:only-of-type {\n",
              "        vertical-align: middle;\n",
              "    }\n",
              "\n",
              "    .dataframe tbody tr th {\n",
              "        vertical-align: top;\n",
              "    }\n",
              "\n",
              "    .dataframe thead th {\n",
              "        text-align: right;\n",
              "    }\n",
              "</style>\n",
              "<table border=\"1\" class=\"dataframe\">\n",
              "  <thead>\n",
              "    <tr style=\"text-align: right;\">\n",
              "      <th></th>\n",
              "      <th>Clouds</th>\n",
              "      <th>Mist</th>\n",
              "      <th>Rain</th>\n",
              "      <th>Thunderstorm</th>\n",
              "    </tr>\n",
              "  </thead>\n",
              "  <tbody>\n",
              "    <tr>\n",
              "      <th>0</th>\n",
              "      <td>0</td>\n",
              "      <td>0</td>\n",
              "      <td>0</td>\n",
              "      <td>0</td>\n",
              "    </tr>\n",
              "    <tr>\n",
              "      <th>1</th>\n",
              "      <td>0</td>\n",
              "      <td>0</td>\n",
              "      <td>0</td>\n",
              "      <td>0</td>\n",
              "    </tr>\n",
              "    <tr>\n",
              "      <th>2</th>\n",
              "      <td>0</td>\n",
              "      <td>0</td>\n",
              "      <td>0</td>\n",
              "      <td>0</td>\n",
              "    </tr>\n",
              "    <tr>\n",
              "      <th>3</th>\n",
              "      <td>0</td>\n",
              "      <td>0</td>\n",
              "      <td>0</td>\n",
              "      <td>0</td>\n",
              "    </tr>\n",
              "    <tr>\n",
              "      <th>4</th>\n",
              "      <td>0</td>\n",
              "      <td>0</td>\n",
              "      <td>0</td>\n",
              "      <td>0</td>\n",
              "    </tr>\n",
              "  </tbody>\n",
              "</table>\n",
              "</div>"
            ],
            "text/plain": [
              "   Clouds  Mist  Rain  Thunderstorm\n",
              "0       0     0     0             0\n",
              "1       0     0     0             0\n",
              "2       0     0     0             0\n",
              "3       0     0     0             0\n",
              "4       0     0     0             0"
            ]
          },
          "metadata": {
            "tags": []
          },
          "execution_count": 75
        }
      ]
    },
    {
      "cell_type": "code",
      "metadata": {
        "colab": {
          "base_uri": "https://localhost:8080/",
          "height": 203
        },
        "id": "QX8Jfy48O1TV",
        "outputId": "73592b43-9dc5-471f-cc31-8cdcbba1ee9f"
      },
      "source": [
        "# As name is Nominal Categorical data we will perform OneHotEncoding\n",
        "name=pd.get_dummies(categorical['name'], drop_first=True)\n",
        "Weather.head()"
      ],
      "execution_count": null,
      "outputs": [
        {
          "output_type": "execute_result",
          "data": {
            "text/html": [
              "<div>\n",
              "<style scoped>\n",
              "    .dataframe tbody tr th:only-of-type {\n",
              "        vertical-align: middle;\n",
              "    }\n",
              "\n",
              "    .dataframe tbody tr th {\n",
              "        vertical-align: top;\n",
              "    }\n",
              "\n",
              "    .dataframe thead th {\n",
              "        text-align: right;\n",
              "    }\n",
              "</style>\n",
              "<table border=\"1\" class=\"dataframe\">\n",
              "  <thead>\n",
              "    <tr style=\"text-align: right;\">\n",
              "      <th></th>\n",
              "      <th>Clouds</th>\n",
              "      <th>Mist</th>\n",
              "      <th>Rain</th>\n",
              "      <th>Thunderstorm</th>\n",
              "    </tr>\n",
              "  </thead>\n",
              "  <tbody>\n",
              "    <tr>\n",
              "      <th>0</th>\n",
              "      <td>0</td>\n",
              "      <td>0</td>\n",
              "      <td>0</td>\n",
              "      <td>0</td>\n",
              "    </tr>\n",
              "    <tr>\n",
              "      <th>1</th>\n",
              "      <td>0</td>\n",
              "      <td>0</td>\n",
              "      <td>0</td>\n",
              "      <td>0</td>\n",
              "    </tr>\n",
              "    <tr>\n",
              "      <th>2</th>\n",
              "      <td>0</td>\n",
              "      <td>0</td>\n",
              "      <td>0</td>\n",
              "      <td>0</td>\n",
              "    </tr>\n",
              "    <tr>\n",
              "      <th>3</th>\n",
              "      <td>0</td>\n",
              "      <td>0</td>\n",
              "      <td>0</td>\n",
              "      <td>0</td>\n",
              "    </tr>\n",
              "    <tr>\n",
              "      <th>4</th>\n",
              "      <td>0</td>\n",
              "      <td>0</td>\n",
              "      <td>0</td>\n",
              "      <td>0</td>\n",
              "    </tr>\n",
              "  </tbody>\n",
              "</table>\n",
              "</div>"
            ],
            "text/plain": [
              "   Clouds  Mist  Rain  Thunderstorm\n",
              "0       0     0     0             0\n",
              "1       0     0     0             0\n",
              "2       0     0     0             0\n",
              "3       0     0     0             0\n",
              "4       0     0     0             0"
            ]
          },
          "metadata": {
            "tags": []
          },
          "execution_count": 76
        }
      ]
    },
    {
      "cell_type": "code",
      "metadata": {
        "colab": {
          "base_uri": "https://localhost:8080/"
        },
        "id": "8743Q2eDHeZW",
        "outputId": "25ceddd0-2978-476c-8754-109175773266"
      },
      "source": [
        "#now extract how many categories in each cat_feature\n",
        "for feature in categorical.columns:\n",
        "    print('{} has total {} categories \\n'.format(feature,len(categorical[feature].value_counts())))"
      ],
      "execution_count": null,
      "outputs": [
        {
          "output_type": "stream",
          "text": [
            "Description has total 12 categories \n",
            "\n",
            "Weather has total 5 categories \n",
            "\n",
            "name has total 1 categories \n",
            "\n"
          ],
          "name": "stdout"
        }
      ]
    },
    {
      "cell_type": "code",
      "metadata": {
        "colab": {
          "base_uri": "https://localhost:8080/",
          "height": 307
        },
        "id": "lVft4U34HeTP",
        "outputId": "325ac66b-8227-4243-d0ab-79288690557b"
      },
      "source": [
        "france_w1.head()"
      ],
      "execution_count": null,
      "outputs": [
        {
          "output_type": "execute_result",
          "data": {
            "text/html": [
              "<div>\n",
              "<style scoped>\n",
              "    .dataframe tbody tr th:only-of-type {\n",
              "        vertical-align: middle;\n",
              "    }\n",
              "\n",
              "    .dataframe tbody tr th {\n",
              "        vertical-align: top;\n",
              "    }\n",
              "\n",
              "    .dataframe thead th {\n",
              "        text-align: right;\n",
              "    }\n",
              "</style>\n",
              "<table border=\"1\" class=\"dataframe\">\n",
              "  <thead>\n",
              "    <tr style=\"text-align: right;\">\n",
              "      <th></th>\n",
              "      <th>Unnamed_0</th>\n",
              "      <th>Temperature</th>\n",
              "      <th>Wind_speed</th>\n",
              "      <th>Description</th>\n",
              "      <th>Weather</th>\n",
              "      <th>feels_like</th>\n",
              "      <th>name</th>\n",
              "      <th>temp_min</th>\n",
              "      <th>temp_max</th>\n",
              "      <th>pressure</th>\n",
              "      <th>humidity</th>\n",
              "      <th>visibility</th>\n",
              "      <th>sunrise</th>\n",
              "      <th>sunset</th>\n",
              "      <th>Date</th>\n",
              "      <th>day</th>\n",
              "      <th>month</th>\n",
              "      <th>year</th>\n",
              "      <th>Time_hour</th>\n",
              "      <th>Time_minute</th>\n",
              "    </tr>\n",
              "  </thead>\n",
              "  <tbody>\n",
              "    <tr>\n",
              "      <th>0</th>\n",
              "      <td>1</td>\n",
              "      <td>301.15</td>\n",
              "      <td>2.6</td>\n",
              "      <td>clear sky</td>\n",
              "      <td>Clear</td>\n",
              "      <td>307.02</td>\n",
              "      <td>France</td>\n",
              "      <td>301.15</td>\n",
              "      <td>301.15</td>\n",
              "      <td>1009</td>\n",
              "      <td>94</td>\n",
              "      <td>6000</td>\n",
              "      <td>1582093790</td>\n",
              "      <td>1582136891</td>\n",
              "      <td>2020-02-19</td>\n",
              "      <td>19</td>\n",
              "      <td>2</td>\n",
              "      <td>2020</td>\n",
              "      <td>4</td>\n",
              "      <td>14</td>\n",
              "    </tr>\n",
              "    <tr>\n",
              "      <th>1</th>\n",
              "      <td>6</td>\n",
              "      <td>301.15</td>\n",
              "      <td>2.6</td>\n",
              "      <td>clear sky</td>\n",
              "      <td>Clear</td>\n",
              "      <td>307.02</td>\n",
              "      <td>France</td>\n",
              "      <td>301.15</td>\n",
              "      <td>301.15</td>\n",
              "      <td>1008</td>\n",
              "      <td>94</td>\n",
              "      <td>6000</td>\n",
              "      <td>1582093790</td>\n",
              "      <td>1582136891</td>\n",
              "      <td>2020-02-19</td>\n",
              "      <td>19</td>\n",
              "      <td>2</td>\n",
              "      <td>2020</td>\n",
              "      <td>4</td>\n",
              "      <td>24</td>\n",
              "    </tr>\n",
              "    <tr>\n",
              "      <th>2</th>\n",
              "      <td>11</td>\n",
              "      <td>301.15</td>\n",
              "      <td>2.6</td>\n",
              "      <td>clear sky</td>\n",
              "      <td>Clear</td>\n",
              "      <td>307.02</td>\n",
              "      <td>France</td>\n",
              "      <td>301.15</td>\n",
              "      <td>301.15</td>\n",
              "      <td>1008</td>\n",
              "      <td>94</td>\n",
              "      <td>6000</td>\n",
              "      <td>1582093790</td>\n",
              "      <td>1582136891</td>\n",
              "      <td>2020-02-19</td>\n",
              "      <td>19</td>\n",
              "      <td>2</td>\n",
              "      <td>2020</td>\n",
              "      <td>4</td>\n",
              "      <td>34</td>\n",
              "    </tr>\n",
              "    <tr>\n",
              "      <th>3</th>\n",
              "      <td>16</td>\n",
              "      <td>301.15</td>\n",
              "      <td>2.6</td>\n",
              "      <td>clear sky</td>\n",
              "      <td>Clear</td>\n",
              "      <td>307.02</td>\n",
              "      <td>France</td>\n",
              "      <td>301.15</td>\n",
              "      <td>301.15</td>\n",
              "      <td>1008</td>\n",
              "      <td>94</td>\n",
              "      <td>6000</td>\n",
              "      <td>1582093790</td>\n",
              "      <td>1582136891</td>\n",
              "      <td>2020-02-19</td>\n",
              "      <td>19</td>\n",
              "      <td>2</td>\n",
              "      <td>2020</td>\n",
              "      <td>4</td>\n",
              "      <td>44</td>\n",
              "    </tr>\n",
              "    <tr>\n",
              "      <th>4</th>\n",
              "      <td>21</td>\n",
              "      <td>301.15</td>\n",
              "      <td>2.6</td>\n",
              "      <td>clear sky</td>\n",
              "      <td>Clear</td>\n",
              "      <td>307.02</td>\n",
              "      <td>France</td>\n",
              "      <td>301.15</td>\n",
              "      <td>301.15</td>\n",
              "      <td>1008</td>\n",
              "      <td>94</td>\n",
              "      <td>6000</td>\n",
              "      <td>1582093790</td>\n",
              "      <td>1582136891</td>\n",
              "      <td>2020-02-19</td>\n",
              "      <td>19</td>\n",
              "      <td>2</td>\n",
              "      <td>2020</td>\n",
              "      <td>4</td>\n",
              "      <td>54</td>\n",
              "    </tr>\n",
              "  </tbody>\n",
              "</table>\n",
              "</div>"
            ],
            "text/plain": [
              "   Unnamed_0  Temperature  Wind_speed  ...  year Time_hour  Time_minute\n",
              "0          1       301.15         2.6  ...  2020         4           14\n",
              "1          6       301.15         2.6  ...  2020         4           24\n",
              "2         11       301.15         2.6  ...  2020         4           34\n",
              "3         16       301.15         2.6  ...  2020         4           44\n",
              "4         21       301.15         2.6  ...  2020         4           54\n",
              "\n",
              "[5 rows x 20 columns]"
            ]
          },
          "metadata": {
            "tags": []
          },
          "execution_count": 78
        }
      ]
    },
    {
      "cell_type": "code",
      "metadata": {
        "id": "1EaMYfMrHeN9"
      },
      "source": [
        "france_w1.drop(labels= [\"Unnamed_0\",'Date'],axis =1 , inplace = True)"
      ],
      "execution_count": null,
      "outputs": []
    },
    {
      "cell_type": "code",
      "metadata": {
        "colab": {
          "base_uri": "https://localhost:8080/",
          "height": 223
        },
        "id": "1W41n0lRHeJ3",
        "outputId": "6b182830-7299-4fc6-c1e9-e0ad7065500f"
      },
      "source": [
        "france_w1.head()"
      ],
      "execution_count": null,
      "outputs": [
        {
          "output_type": "execute_result",
          "data": {
            "text/html": [
              "<div>\n",
              "<style scoped>\n",
              "    .dataframe tbody tr th:only-of-type {\n",
              "        vertical-align: middle;\n",
              "    }\n",
              "\n",
              "    .dataframe tbody tr th {\n",
              "        vertical-align: top;\n",
              "    }\n",
              "\n",
              "    .dataframe thead th {\n",
              "        text-align: right;\n",
              "    }\n",
              "</style>\n",
              "<table border=\"1\" class=\"dataframe\">\n",
              "  <thead>\n",
              "    <tr style=\"text-align: right;\">\n",
              "      <th></th>\n",
              "      <th>Temperature</th>\n",
              "      <th>Wind_speed</th>\n",
              "      <th>Description</th>\n",
              "      <th>Weather</th>\n",
              "      <th>feels_like</th>\n",
              "      <th>name</th>\n",
              "      <th>temp_min</th>\n",
              "      <th>temp_max</th>\n",
              "      <th>pressure</th>\n",
              "      <th>humidity</th>\n",
              "      <th>visibility</th>\n",
              "      <th>sunrise</th>\n",
              "      <th>sunset</th>\n",
              "      <th>day</th>\n",
              "      <th>month</th>\n",
              "      <th>year</th>\n",
              "      <th>Time_hour</th>\n",
              "      <th>Time_minute</th>\n",
              "    </tr>\n",
              "  </thead>\n",
              "  <tbody>\n",
              "    <tr>\n",
              "      <th>0</th>\n",
              "      <td>301.15</td>\n",
              "      <td>2.6</td>\n",
              "      <td>clear sky</td>\n",
              "      <td>Clear</td>\n",
              "      <td>307.02</td>\n",
              "      <td>France</td>\n",
              "      <td>301.15</td>\n",
              "      <td>301.15</td>\n",
              "      <td>1009</td>\n",
              "      <td>94</td>\n",
              "      <td>6000</td>\n",
              "      <td>1582093790</td>\n",
              "      <td>1582136891</td>\n",
              "      <td>19</td>\n",
              "      <td>2</td>\n",
              "      <td>2020</td>\n",
              "      <td>4</td>\n",
              "      <td>14</td>\n",
              "    </tr>\n",
              "    <tr>\n",
              "      <th>1</th>\n",
              "      <td>301.15</td>\n",
              "      <td>2.6</td>\n",
              "      <td>clear sky</td>\n",
              "      <td>Clear</td>\n",
              "      <td>307.02</td>\n",
              "      <td>France</td>\n",
              "      <td>301.15</td>\n",
              "      <td>301.15</td>\n",
              "      <td>1008</td>\n",
              "      <td>94</td>\n",
              "      <td>6000</td>\n",
              "      <td>1582093790</td>\n",
              "      <td>1582136891</td>\n",
              "      <td>19</td>\n",
              "      <td>2</td>\n",
              "      <td>2020</td>\n",
              "      <td>4</td>\n",
              "      <td>24</td>\n",
              "    </tr>\n",
              "    <tr>\n",
              "      <th>2</th>\n",
              "      <td>301.15</td>\n",
              "      <td>2.6</td>\n",
              "      <td>clear sky</td>\n",
              "      <td>Clear</td>\n",
              "      <td>307.02</td>\n",
              "      <td>France</td>\n",
              "      <td>301.15</td>\n",
              "      <td>301.15</td>\n",
              "      <td>1008</td>\n",
              "      <td>94</td>\n",
              "      <td>6000</td>\n",
              "      <td>1582093790</td>\n",
              "      <td>1582136891</td>\n",
              "      <td>19</td>\n",
              "      <td>2</td>\n",
              "      <td>2020</td>\n",
              "      <td>4</td>\n",
              "      <td>34</td>\n",
              "    </tr>\n",
              "    <tr>\n",
              "      <th>3</th>\n",
              "      <td>301.15</td>\n",
              "      <td>2.6</td>\n",
              "      <td>clear sky</td>\n",
              "      <td>Clear</td>\n",
              "      <td>307.02</td>\n",
              "      <td>France</td>\n",
              "      <td>301.15</td>\n",
              "      <td>301.15</td>\n",
              "      <td>1008</td>\n",
              "      <td>94</td>\n",
              "      <td>6000</td>\n",
              "      <td>1582093790</td>\n",
              "      <td>1582136891</td>\n",
              "      <td>19</td>\n",
              "      <td>2</td>\n",
              "      <td>2020</td>\n",
              "      <td>4</td>\n",
              "      <td>44</td>\n",
              "    </tr>\n",
              "    <tr>\n",
              "      <th>4</th>\n",
              "      <td>301.15</td>\n",
              "      <td>2.6</td>\n",
              "      <td>clear sky</td>\n",
              "      <td>Clear</td>\n",
              "      <td>307.02</td>\n",
              "      <td>France</td>\n",
              "      <td>301.15</td>\n",
              "      <td>301.15</td>\n",
              "      <td>1008</td>\n",
              "      <td>94</td>\n",
              "      <td>6000</td>\n",
              "      <td>1582093790</td>\n",
              "      <td>1582136891</td>\n",
              "      <td>19</td>\n",
              "      <td>2</td>\n",
              "      <td>2020</td>\n",
              "      <td>4</td>\n",
              "      <td>54</td>\n",
              "    </tr>\n",
              "  </tbody>\n",
              "</table>\n",
              "</div>"
            ],
            "text/plain": [
              "   Temperature  Wind_speed Description  ...  year  Time_hour Time_minute\n",
              "0       301.15         2.6   clear sky  ...  2020          4          14\n",
              "1       301.15         2.6   clear sky  ...  2020          4          24\n",
              "2       301.15         2.6   clear sky  ...  2020          4          34\n",
              "3       301.15         2.6   clear sky  ...  2020          4          44\n",
              "4       301.15         2.6   clear sky  ...  2020          4          54\n",
              "\n",
              "[5 rows x 18 columns]"
            ]
          },
          "metadata": {
            "tags": []
          },
          "execution_count": 80
        }
      ]
    },
    {
      "cell_type": "code",
      "metadata": {
        "colab": {
          "base_uri": "https://localhost:8080/",
          "height": 203
        },
        "id": "mhyUG61IHeD-",
        "outputId": "0ab48013-842e-43e3-bf32-a9ea2f35878c"
      },
      "source": [
        "categorical.head()"
      ],
      "execution_count": null,
      "outputs": [
        {
          "output_type": "execute_result",
          "data": {
            "text/html": [
              "<div>\n",
              "<style scoped>\n",
              "    .dataframe tbody tr th:only-of-type {\n",
              "        vertical-align: middle;\n",
              "    }\n",
              "\n",
              "    .dataframe tbody tr th {\n",
              "        vertical-align: top;\n",
              "    }\n",
              "\n",
              "    .dataframe thead th {\n",
              "        text-align: right;\n",
              "    }\n",
              "</style>\n",
              "<table border=\"1\" class=\"dataframe\">\n",
              "  <thead>\n",
              "    <tr style=\"text-align: right;\">\n",
              "      <th></th>\n",
              "      <th>Description</th>\n",
              "      <th>Weather</th>\n",
              "      <th>name</th>\n",
              "    </tr>\n",
              "  </thead>\n",
              "  <tbody>\n",
              "    <tr>\n",
              "      <th>0</th>\n",
              "      <td>clear sky</td>\n",
              "      <td>Clear</td>\n",
              "      <td>France</td>\n",
              "    </tr>\n",
              "    <tr>\n",
              "      <th>1</th>\n",
              "      <td>clear sky</td>\n",
              "      <td>Clear</td>\n",
              "      <td>France</td>\n",
              "    </tr>\n",
              "    <tr>\n",
              "      <th>2</th>\n",
              "      <td>clear sky</td>\n",
              "      <td>Clear</td>\n",
              "      <td>France</td>\n",
              "    </tr>\n",
              "    <tr>\n",
              "      <th>3</th>\n",
              "      <td>clear sky</td>\n",
              "      <td>Clear</td>\n",
              "      <td>France</td>\n",
              "    </tr>\n",
              "    <tr>\n",
              "      <th>4</th>\n",
              "      <td>clear sky</td>\n",
              "      <td>Clear</td>\n",
              "      <td>France</td>\n",
              "    </tr>\n",
              "  </tbody>\n",
              "</table>\n",
              "</div>"
            ],
            "text/plain": [
              "  Description Weather    name\n",
              "0   clear sky   Clear  France\n",
              "1   clear sky   Clear  France\n",
              "2   clear sky   Clear  France\n",
              "3   clear sky   Clear  France\n",
              "4   clear sky   Clear  France"
            ]
          },
          "metadata": {
            "tags": []
          },
          "execution_count": 81
        }
      ]
    },
    {
      "cell_type": "code",
      "metadata": {
        "colab": {
          "base_uri": "https://localhost:8080/",
          "height": 417
        },
        "id": "ljx7p8QOHeAn",
        "outputId": "31ea2f16-9a85-49a1-8e9a-e198ead8c13b"
      },
      "source": [
        "france_w1[cat_col]"
      ],
      "execution_count": null,
      "outputs": [
        {
          "output_type": "execute_result",
          "data": {
            "text/html": [
              "<div>\n",
              "<style scoped>\n",
              "    .dataframe tbody tr th:only-of-type {\n",
              "        vertical-align: middle;\n",
              "    }\n",
              "\n",
              "    .dataframe tbody tr th {\n",
              "        vertical-align: top;\n",
              "    }\n",
              "\n",
              "    .dataframe thead th {\n",
              "        text-align: right;\n",
              "    }\n",
              "</style>\n",
              "<table border=\"1\" class=\"dataframe\">\n",
              "  <thead>\n",
              "    <tr style=\"text-align: right;\">\n",
              "      <th></th>\n",
              "      <th>Description</th>\n",
              "      <th>Weather</th>\n",
              "      <th>name</th>\n",
              "    </tr>\n",
              "  </thead>\n",
              "  <tbody>\n",
              "    <tr>\n",
              "      <th>0</th>\n",
              "      <td>clear sky</td>\n",
              "      <td>Clear</td>\n",
              "      <td>France</td>\n",
              "    </tr>\n",
              "    <tr>\n",
              "      <th>1</th>\n",
              "      <td>clear sky</td>\n",
              "      <td>Clear</td>\n",
              "      <td>France</td>\n",
              "    </tr>\n",
              "    <tr>\n",
              "      <th>2</th>\n",
              "      <td>clear sky</td>\n",
              "      <td>Clear</td>\n",
              "      <td>France</td>\n",
              "    </tr>\n",
              "    <tr>\n",
              "      <th>3</th>\n",
              "      <td>clear sky</td>\n",
              "      <td>Clear</td>\n",
              "      <td>France</td>\n",
              "    </tr>\n",
              "    <tr>\n",
              "      <th>4</th>\n",
              "      <td>clear sky</td>\n",
              "      <td>Clear</td>\n",
              "      <td>France</td>\n",
              "    </tr>\n",
              "    <tr>\n",
              "      <th>...</th>\n",
              "      <td>...</td>\n",
              "      <td>...</td>\n",
              "      <td>...</td>\n",
              "    </tr>\n",
              "    <tr>\n",
              "      <th>7466</th>\n",
              "      <td>few clouds</td>\n",
              "      <td>Clouds</td>\n",
              "      <td>France</td>\n",
              "    </tr>\n",
              "    <tr>\n",
              "      <th>7467</th>\n",
              "      <td>few clouds</td>\n",
              "      <td>Clouds</td>\n",
              "      <td>France</td>\n",
              "    </tr>\n",
              "    <tr>\n",
              "      <th>7468</th>\n",
              "      <td>few clouds</td>\n",
              "      <td>Clouds</td>\n",
              "      <td>France</td>\n",
              "    </tr>\n",
              "    <tr>\n",
              "      <th>7469</th>\n",
              "      <td>few clouds</td>\n",
              "      <td>Clouds</td>\n",
              "      <td>France</td>\n",
              "    </tr>\n",
              "    <tr>\n",
              "      <th>7470</th>\n",
              "      <td>few clouds</td>\n",
              "      <td>Clouds</td>\n",
              "      <td>France</td>\n",
              "    </tr>\n",
              "  </tbody>\n",
              "</table>\n",
              "<p>7471 rows × 3 columns</p>\n",
              "</div>"
            ],
            "text/plain": [
              "     Description Weather    name\n",
              "0      clear sky   Clear  France\n",
              "1      clear sky   Clear  France\n",
              "2      clear sky   Clear  France\n",
              "3      clear sky   Clear  France\n",
              "4      clear sky   Clear  France\n",
              "...          ...     ...     ...\n",
              "7466  few clouds  Clouds  France\n",
              "7467  few clouds  Clouds  France\n",
              "7468  few clouds  Clouds  France\n",
              "7469  few clouds  Clouds  France\n",
              "7470  few clouds  Clouds  France\n",
              "\n",
              "[7471 rows x 3 columns]"
            ]
          },
          "metadata": {
            "tags": []
          },
          "execution_count": 82
        }
      ]
    },
    {
      "cell_type": "code",
      "metadata": {
        "colab": {
          "base_uri": "https://localhost:8080/"
        },
        "id": "Ta-yaAkw3riC",
        "outputId": "2032c575-6d22-4e61-f053-a14101d65496"
      },
      "source": [
        "cont_col=[col for col in france_w1.columns if france_w1[col].dtype!='O']\n",
        "cont_col"
      ],
      "execution_count": null,
      "outputs": [
        {
          "output_type": "execute_result",
          "data": {
            "text/plain": [
              "['Temperature',\n",
              " 'Wind_speed',\n",
              " 'feels_like',\n",
              " 'temp_min',\n",
              " 'temp_max',\n",
              " 'pressure',\n",
              " 'humidity',\n",
              " 'visibility',\n",
              " 'sunrise',\n",
              " 'sunset',\n",
              " 'day',\n",
              " 'month',\n",
              " 'year',\n",
              " 'Time_hour',\n",
              " 'Time_minute']"
            ]
          },
          "metadata": {
            "tags": []
          },
          "execution_count": 83
        }
      ]
    },
    {
      "cell_type": "code",
      "metadata": {
        "colab": {
          "base_uri": "https://localhost:8080/",
          "height": 417
        },
        "id": "2_UKXuJAHd86",
        "outputId": "18a9aa43-9cd0-4cbb-cebb-b77f0f6eeef1"
      },
      "source": [
        "france_w1[cont_col]"
      ],
      "execution_count": null,
      "outputs": [
        {
          "output_type": "execute_result",
          "data": {
            "text/html": [
              "<div>\n",
              "<style scoped>\n",
              "    .dataframe tbody tr th:only-of-type {\n",
              "        vertical-align: middle;\n",
              "    }\n",
              "\n",
              "    .dataframe tbody tr th {\n",
              "        vertical-align: top;\n",
              "    }\n",
              "\n",
              "    .dataframe thead th {\n",
              "        text-align: right;\n",
              "    }\n",
              "</style>\n",
              "<table border=\"1\" class=\"dataframe\">\n",
              "  <thead>\n",
              "    <tr style=\"text-align: right;\">\n",
              "      <th></th>\n",
              "      <th>Temperature</th>\n",
              "      <th>Wind_speed</th>\n",
              "      <th>feels_like</th>\n",
              "      <th>temp_min</th>\n",
              "      <th>temp_max</th>\n",
              "      <th>pressure</th>\n",
              "      <th>humidity</th>\n",
              "      <th>visibility</th>\n",
              "      <th>sunrise</th>\n",
              "      <th>sunset</th>\n",
              "      <th>day</th>\n",
              "      <th>month</th>\n",
              "      <th>year</th>\n",
              "      <th>Time_hour</th>\n",
              "      <th>Time_minute</th>\n",
              "    </tr>\n",
              "  </thead>\n",
              "  <tbody>\n",
              "    <tr>\n",
              "      <th>0</th>\n",
              "      <td>301.15</td>\n",
              "      <td>2.6</td>\n",
              "      <td>307.02</td>\n",
              "      <td>301.15</td>\n",
              "      <td>301.15</td>\n",
              "      <td>1009</td>\n",
              "      <td>94</td>\n",
              "      <td>6000</td>\n",
              "      <td>1582093790</td>\n",
              "      <td>1582136891</td>\n",
              "      <td>19</td>\n",
              "      <td>2</td>\n",
              "      <td>2020</td>\n",
              "      <td>4</td>\n",
              "      <td>14</td>\n",
              "    </tr>\n",
              "    <tr>\n",
              "      <th>1</th>\n",
              "      <td>301.15</td>\n",
              "      <td>2.6</td>\n",
              "      <td>307.02</td>\n",
              "      <td>301.15</td>\n",
              "      <td>301.15</td>\n",
              "      <td>1008</td>\n",
              "      <td>94</td>\n",
              "      <td>6000</td>\n",
              "      <td>1582093790</td>\n",
              "      <td>1582136891</td>\n",
              "      <td>19</td>\n",
              "      <td>2</td>\n",
              "      <td>2020</td>\n",
              "      <td>4</td>\n",
              "      <td>24</td>\n",
              "    </tr>\n",
              "    <tr>\n",
              "      <th>2</th>\n",
              "      <td>301.15</td>\n",
              "      <td>2.6</td>\n",
              "      <td>307.02</td>\n",
              "      <td>301.15</td>\n",
              "      <td>301.15</td>\n",
              "      <td>1008</td>\n",
              "      <td>94</td>\n",
              "      <td>6000</td>\n",
              "      <td>1582093790</td>\n",
              "      <td>1582136891</td>\n",
              "      <td>19</td>\n",
              "      <td>2</td>\n",
              "      <td>2020</td>\n",
              "      <td>4</td>\n",
              "      <td>34</td>\n",
              "    </tr>\n",
              "    <tr>\n",
              "      <th>3</th>\n",
              "      <td>301.15</td>\n",
              "      <td>2.6</td>\n",
              "      <td>307.02</td>\n",
              "      <td>301.15</td>\n",
              "      <td>301.15</td>\n",
              "      <td>1008</td>\n",
              "      <td>94</td>\n",
              "      <td>6000</td>\n",
              "      <td>1582093790</td>\n",
              "      <td>1582136891</td>\n",
              "      <td>19</td>\n",
              "      <td>2</td>\n",
              "      <td>2020</td>\n",
              "      <td>4</td>\n",
              "      <td>44</td>\n",
              "    </tr>\n",
              "    <tr>\n",
              "      <th>4</th>\n",
              "      <td>301.15</td>\n",
              "      <td>2.6</td>\n",
              "      <td>307.02</td>\n",
              "      <td>301.15</td>\n",
              "      <td>301.15</td>\n",
              "      <td>1008</td>\n",
              "      <td>94</td>\n",
              "      <td>6000</td>\n",
              "      <td>1582093790</td>\n",
              "      <td>1582136891</td>\n",
              "      <td>19</td>\n",
              "      <td>2</td>\n",
              "      <td>2020</td>\n",
              "      <td>4</td>\n",
              "      <td>54</td>\n",
              "    </tr>\n",
              "    <tr>\n",
              "      <th>...</th>\n",
              "      <td>...</td>\n",
              "      <td>...</td>\n",
              "      <td>...</td>\n",
              "      <td>...</td>\n",
              "      <td>...</td>\n",
              "      <td>...</td>\n",
              "      <td>...</td>\n",
              "      <td>...</td>\n",
              "      <td>...</td>\n",
              "      <td>...</td>\n",
              "      <td>...</td>\n",
              "      <td>...</td>\n",
              "      <td>...</td>\n",
              "      <td>...</td>\n",
              "      <td>...</td>\n",
              "    </tr>\n",
              "    <tr>\n",
              "      <th>7466</th>\n",
              "      <td>302.15</td>\n",
              "      <td>6.7</td>\n",
              "      <td>304.40</td>\n",
              "      <td>302.15</td>\n",
              "      <td>302.15</td>\n",
              "      <td>1008</td>\n",
              "      <td>83</td>\n",
              "      <td>10000</td>\n",
              "      <td>1587103615</td>\n",
              "      <td>1587147692</td>\n",
              "      <td>17</td>\n",
              "      <td>4</td>\n",
              "      <td>2020</td>\n",
              "      <td>18</td>\n",
              "      <td>4</td>\n",
              "    </tr>\n",
              "    <tr>\n",
              "      <th>7467</th>\n",
              "      <td>302.15</td>\n",
              "      <td>6.7</td>\n",
              "      <td>304.40</td>\n",
              "      <td>302.15</td>\n",
              "      <td>302.15</td>\n",
              "      <td>1008</td>\n",
              "      <td>83</td>\n",
              "      <td>10000</td>\n",
              "      <td>1587103615</td>\n",
              "      <td>1587147692</td>\n",
              "      <td>17</td>\n",
              "      <td>4</td>\n",
              "      <td>2020</td>\n",
              "      <td>18</td>\n",
              "      <td>14</td>\n",
              "    </tr>\n",
              "    <tr>\n",
              "      <th>7468</th>\n",
              "      <td>302.15</td>\n",
              "      <td>6.2</td>\n",
              "      <td>304.22</td>\n",
              "      <td>302.15</td>\n",
              "      <td>302.15</td>\n",
              "      <td>1008</td>\n",
              "      <td>79</td>\n",
              "      <td>10000</td>\n",
              "      <td>1587103615</td>\n",
              "      <td>1587147692</td>\n",
              "      <td>17</td>\n",
              "      <td>4</td>\n",
              "      <td>2020</td>\n",
              "      <td>18</td>\n",
              "      <td>24</td>\n",
              "    </tr>\n",
              "    <tr>\n",
              "      <th>7469</th>\n",
              "      <td>302.15</td>\n",
              "      <td>6.2</td>\n",
              "      <td>304.22</td>\n",
              "      <td>302.15</td>\n",
              "      <td>302.15</td>\n",
              "      <td>1008</td>\n",
              "      <td>79</td>\n",
              "      <td>10000</td>\n",
              "      <td>1587103615</td>\n",
              "      <td>1587147692</td>\n",
              "      <td>17</td>\n",
              "      <td>4</td>\n",
              "      <td>2020</td>\n",
              "      <td>18</td>\n",
              "      <td>34</td>\n",
              "    </tr>\n",
              "    <tr>\n",
              "      <th>7470</th>\n",
              "      <td>302.15</td>\n",
              "      <td>6.2</td>\n",
              "      <td>304.22</td>\n",
              "      <td>302.15</td>\n",
              "      <td>302.15</td>\n",
              "      <td>1008</td>\n",
              "      <td>79</td>\n",
              "      <td>10000</td>\n",
              "      <td>1587103615</td>\n",
              "      <td>1587147692</td>\n",
              "      <td>17</td>\n",
              "      <td>4</td>\n",
              "      <td>2020</td>\n",
              "      <td>18</td>\n",
              "      <td>44</td>\n",
              "    </tr>\n",
              "  </tbody>\n",
              "</table>\n",
              "<p>7471 rows × 15 columns</p>\n",
              "</div>"
            ],
            "text/plain": [
              "      Temperature  Wind_speed  feels_like  ...  year  Time_hour  Time_minute\n",
              "0          301.15         2.6      307.02  ...  2020          4           14\n",
              "1          301.15         2.6      307.02  ...  2020          4           24\n",
              "2          301.15         2.6      307.02  ...  2020          4           34\n",
              "3          301.15         2.6      307.02  ...  2020          4           44\n",
              "4          301.15         2.6      307.02  ...  2020          4           54\n",
              "...           ...         ...         ...  ...   ...        ...          ...\n",
              "7466       302.15         6.7      304.40  ...  2020         18            4\n",
              "7467       302.15         6.7      304.40  ...  2020         18           14\n",
              "7468       302.15         6.2      304.22  ...  2020         18           24\n",
              "7469       302.15         6.2      304.22  ...  2020         18           34\n",
              "7470       302.15         6.2      304.22  ...  2020         18           44\n",
              "\n",
              "[7471 rows x 15 columns]"
            ]
          },
          "metadata": {
            "tags": []
          },
          "execution_count": 84
        }
      ]
    },
    {
      "cell_type": "code",
      "metadata": {
        "id": "MbIkdYNj5wWH"
      },
      "source": [
        "from sklearn.preprocessing import LabelEncoder\n",
        "encoder=LabelEncoder()"
      ],
      "execution_count": null,
      "outputs": []
    },
    {
      "cell_type": "code",
      "metadata": {
        "colab": {
          "base_uri": "https://localhost:8080/"
        },
        "id": "-yVsNLjM5yK0",
        "outputId": "879cc08a-e7c0-4101-9514-3dc433879efd"
      },
      "source": [
        "categorical.columns"
      ],
      "execution_count": null,
      "outputs": [
        {
          "output_type": "execute_result",
          "data": {
            "text/plain": [
              "Index(['Description', 'Weather', 'name'], dtype='object')"
            ]
          },
          "metadata": {
            "tags": []
          },
          "execution_count": 86
        }
      ]
    },
    {
      "cell_type": "markdown",
      "metadata": {
        "id": "8n-1IHvF5yHM"
      },
      "source": [
        "from sklearn.preprocessing import LabelEncoder\n",
        "le = LabelEncoder()\n",
        "\n",
        "X = [data_france_w1.drop('Temperature',axis=1)]\n",
        "y = [\"tokyo\", \"tokyo\", \"paris\"]\n",
        "le.fit(X).transform(y)"
      ]
    },
    {
      "cell_type": "code",
      "metadata": {
        "id": "nOwECBOc5wSE"
      },
      "source": [
        ""
      ],
      "execution_count": null,
      "outputs": []
    },
    {
      "cell_type": "code",
      "metadata": {
        "colab": {
          "base_uri": "https://localhost:8080/",
          "height": 257
        },
        "id": "5vyXRzavDHWK",
        "outputId": "a16b3720-e16d-4828-93a8-9fa1ac38e030"
      },
      "source": [
        "# Concatenate dataframe --> Description + Weather\t + name \n",
        "\n",
        "data_france_w1=pd.concat([Description,Weather\t,name,france_w1[cont_col]],axis=1)\n",
        "data_france_w1.head()"
      ],
      "execution_count": null,
      "outputs": [
        {
          "output_type": "execute_result",
          "data": {
            "text/html": [
              "<div>\n",
              "<style scoped>\n",
              "    .dataframe tbody tr th:only-of-type {\n",
              "        vertical-align: middle;\n",
              "    }\n",
              "\n",
              "    .dataframe tbody tr th {\n",
              "        vertical-align: top;\n",
              "    }\n",
              "\n",
              "    .dataframe thead th {\n",
              "        text-align: right;\n",
              "    }\n",
              "</style>\n",
              "<table border=\"1\" class=\"dataframe\">\n",
              "  <thead>\n",
              "    <tr style=\"text-align: right;\">\n",
              "      <th></th>\n",
              "      <th>clear sky</th>\n",
              "      <th>few clouds</th>\n",
              "      <th>light rain</th>\n",
              "      <th>mist</th>\n",
              "      <th>moderate rain</th>\n",
              "      <th>overcast clouds</th>\n",
              "      <th>scattered clouds</th>\n",
              "      <th>thunderstorm</th>\n",
              "      <th>thunderstorm with heavy rain</th>\n",
              "      <th>thunderstorm with light rain</th>\n",
              "      <th>thunderstorm with rain</th>\n",
              "      <th>Clouds</th>\n",
              "      <th>Mist</th>\n",
              "      <th>Rain</th>\n",
              "      <th>Thunderstorm</th>\n",
              "      <th>Temperature</th>\n",
              "      <th>Wind_speed</th>\n",
              "      <th>feels_like</th>\n",
              "      <th>temp_min</th>\n",
              "      <th>temp_max</th>\n",
              "      <th>pressure</th>\n",
              "      <th>humidity</th>\n",
              "      <th>visibility</th>\n",
              "      <th>sunrise</th>\n",
              "      <th>sunset</th>\n",
              "      <th>day</th>\n",
              "      <th>month</th>\n",
              "      <th>year</th>\n",
              "      <th>Time_hour</th>\n",
              "      <th>Time_minute</th>\n",
              "    </tr>\n",
              "  </thead>\n",
              "  <tbody>\n",
              "    <tr>\n",
              "      <th>0</th>\n",
              "      <td>1</td>\n",
              "      <td>0</td>\n",
              "      <td>0</td>\n",
              "      <td>0</td>\n",
              "      <td>0</td>\n",
              "      <td>0</td>\n",
              "      <td>0</td>\n",
              "      <td>0</td>\n",
              "      <td>0</td>\n",
              "      <td>0</td>\n",
              "      <td>0</td>\n",
              "      <td>0</td>\n",
              "      <td>0</td>\n",
              "      <td>0</td>\n",
              "      <td>0</td>\n",
              "      <td>301.15</td>\n",
              "      <td>2.6</td>\n",
              "      <td>307.02</td>\n",
              "      <td>301.15</td>\n",
              "      <td>301.15</td>\n",
              "      <td>1009</td>\n",
              "      <td>94</td>\n",
              "      <td>6000</td>\n",
              "      <td>1582093790</td>\n",
              "      <td>1582136891</td>\n",
              "      <td>19</td>\n",
              "      <td>2</td>\n",
              "      <td>2020</td>\n",
              "      <td>4</td>\n",
              "      <td>14</td>\n",
              "    </tr>\n",
              "    <tr>\n",
              "      <th>1</th>\n",
              "      <td>1</td>\n",
              "      <td>0</td>\n",
              "      <td>0</td>\n",
              "      <td>0</td>\n",
              "      <td>0</td>\n",
              "      <td>0</td>\n",
              "      <td>0</td>\n",
              "      <td>0</td>\n",
              "      <td>0</td>\n",
              "      <td>0</td>\n",
              "      <td>0</td>\n",
              "      <td>0</td>\n",
              "      <td>0</td>\n",
              "      <td>0</td>\n",
              "      <td>0</td>\n",
              "      <td>301.15</td>\n",
              "      <td>2.6</td>\n",
              "      <td>307.02</td>\n",
              "      <td>301.15</td>\n",
              "      <td>301.15</td>\n",
              "      <td>1008</td>\n",
              "      <td>94</td>\n",
              "      <td>6000</td>\n",
              "      <td>1582093790</td>\n",
              "      <td>1582136891</td>\n",
              "      <td>19</td>\n",
              "      <td>2</td>\n",
              "      <td>2020</td>\n",
              "      <td>4</td>\n",
              "      <td>24</td>\n",
              "    </tr>\n",
              "    <tr>\n",
              "      <th>2</th>\n",
              "      <td>1</td>\n",
              "      <td>0</td>\n",
              "      <td>0</td>\n",
              "      <td>0</td>\n",
              "      <td>0</td>\n",
              "      <td>0</td>\n",
              "      <td>0</td>\n",
              "      <td>0</td>\n",
              "      <td>0</td>\n",
              "      <td>0</td>\n",
              "      <td>0</td>\n",
              "      <td>0</td>\n",
              "      <td>0</td>\n",
              "      <td>0</td>\n",
              "      <td>0</td>\n",
              "      <td>301.15</td>\n",
              "      <td>2.6</td>\n",
              "      <td>307.02</td>\n",
              "      <td>301.15</td>\n",
              "      <td>301.15</td>\n",
              "      <td>1008</td>\n",
              "      <td>94</td>\n",
              "      <td>6000</td>\n",
              "      <td>1582093790</td>\n",
              "      <td>1582136891</td>\n",
              "      <td>19</td>\n",
              "      <td>2</td>\n",
              "      <td>2020</td>\n",
              "      <td>4</td>\n",
              "      <td>34</td>\n",
              "    </tr>\n",
              "    <tr>\n",
              "      <th>3</th>\n",
              "      <td>1</td>\n",
              "      <td>0</td>\n",
              "      <td>0</td>\n",
              "      <td>0</td>\n",
              "      <td>0</td>\n",
              "      <td>0</td>\n",
              "      <td>0</td>\n",
              "      <td>0</td>\n",
              "      <td>0</td>\n",
              "      <td>0</td>\n",
              "      <td>0</td>\n",
              "      <td>0</td>\n",
              "      <td>0</td>\n",
              "      <td>0</td>\n",
              "      <td>0</td>\n",
              "      <td>301.15</td>\n",
              "      <td>2.6</td>\n",
              "      <td>307.02</td>\n",
              "      <td>301.15</td>\n",
              "      <td>301.15</td>\n",
              "      <td>1008</td>\n",
              "      <td>94</td>\n",
              "      <td>6000</td>\n",
              "      <td>1582093790</td>\n",
              "      <td>1582136891</td>\n",
              "      <td>19</td>\n",
              "      <td>2</td>\n",
              "      <td>2020</td>\n",
              "      <td>4</td>\n",
              "      <td>44</td>\n",
              "    </tr>\n",
              "    <tr>\n",
              "      <th>4</th>\n",
              "      <td>1</td>\n",
              "      <td>0</td>\n",
              "      <td>0</td>\n",
              "      <td>0</td>\n",
              "      <td>0</td>\n",
              "      <td>0</td>\n",
              "      <td>0</td>\n",
              "      <td>0</td>\n",
              "      <td>0</td>\n",
              "      <td>0</td>\n",
              "      <td>0</td>\n",
              "      <td>0</td>\n",
              "      <td>0</td>\n",
              "      <td>0</td>\n",
              "      <td>0</td>\n",
              "      <td>301.15</td>\n",
              "      <td>2.6</td>\n",
              "      <td>307.02</td>\n",
              "      <td>301.15</td>\n",
              "      <td>301.15</td>\n",
              "      <td>1008</td>\n",
              "      <td>94</td>\n",
              "      <td>6000</td>\n",
              "      <td>1582093790</td>\n",
              "      <td>1582136891</td>\n",
              "      <td>19</td>\n",
              "      <td>2</td>\n",
              "      <td>2020</td>\n",
              "      <td>4</td>\n",
              "      <td>54</td>\n",
              "    </tr>\n",
              "  </tbody>\n",
              "</table>\n",
              "</div>"
            ],
            "text/plain": [
              "   clear sky  few clouds  light rain  mist  ...  month  year  Time_hour  Time_minute\n",
              "0          1           0           0     0  ...      2  2020          4           14\n",
              "1          1           0           0     0  ...      2  2020          4           24\n",
              "2          1           0           0     0  ...      2  2020          4           34\n",
              "3          1           0           0     0  ...      2  2020          4           44\n",
              "4          1           0           0     0  ...      2  2020          4           54\n",
              "\n",
              "[5 rows x 30 columns]"
            ]
          },
          "metadata": {
            "tags": []
          },
          "execution_count": 109
        }
      ]
    },
    {
      "cell_type": "code",
      "metadata": {
        "colab": {
          "base_uri": "https://localhost:8080/"
        },
        "id": "5LuwA1ILVxmx",
        "outputId": "3e292e5b-01f7-4e84-e659-beed1e9ddc67"
      },
      "source": [
        "data_france_w1.shape"
      ],
      "execution_count": null,
      "outputs": [
        {
          "output_type": "execute_result",
          "data": {
            "text/plain": [
              "(7471, 30)"
            ]
          },
          "metadata": {
            "tags": []
          },
          "execution_count": 111
        }
      ]
    },
    {
      "cell_type": "code",
      "metadata": {
        "colab": {
          "base_uri": "https://localhost:8080/"
        },
        "id": "qltNgf2VDHSD",
        "outputId": "8e968e3c-713f-4a5b-bf64-c3b85b135d12"
      },
      "source": [
        "data_france_w1.columns"
      ],
      "execution_count": null,
      "outputs": [
        {
          "output_type": "execute_result",
          "data": {
            "text/plain": [
              "Index(['clear sky', 'few clouds', 'light rain', 'mist', 'moderate rain',\n",
              "       'overcast clouds', 'scattered clouds', 'thunderstorm',\n",
              "       'thunderstorm with heavy rain', 'thunderstorm with light rain',\n",
              "       'thunderstorm with rain', 'Clouds', 'Mist', 'Rain', 'Thunderstorm',\n",
              "       'Temperature', 'Wind_speed', 'feels_like', 'temp_min', 'temp_max',\n",
              "       'pressure', 'humidity', 'visibility', 'sunrise', 'sunset', 'day',\n",
              "       'month', 'year', 'Time_hour', 'Time_minute'],\n",
              "      dtype='object')"
            ]
          },
          "metadata": {
            "tags": []
          },
          "execution_count": 110
        }
      ]
    },
    {
      "cell_type": "code",
      "metadata": {
        "colab": {
          "base_uri": "https://localhost:8080/"
        },
        "id": "8x4MaC1TXRs0",
        "outputId": "8fde6a75-2865-4524-902c-8581956fdddd"
      },
      "source": [
        "from sklearn import preprocessing\n",
        "  \n",
        "\n",
        "label_encoder = preprocessing.LabelEncoder()\n",
        "  \n",
        "\n",
        "data_france_w1['Temperature'] = label_encoder.fit_transform(data_france_w1['Temperature'])\n",
        "  \n",
        "data_france_w1['Temperature'].unique()"
      ],
      "execution_count": null,
      "outputs": [
        {
          "output_type": "execute_result",
          "data": {
            "text/plain": [
              "array([ 6,  7,  8,  9, 10, 11,  5,  4, 12,  3,  1,  2,  0])"
            ]
          },
          "metadata": {
            "tags": []
          },
          "execution_count": 128
        }
      ]
    },
    {
      "cell_type": "markdown",
      "metadata": {
        "id": "8cVh5ZlKmUV0"
      },
      "source": [
        "outlier detection"
      ]
    },
    {
      "cell_type": "code",
      "metadata": {
        "id": "MXoKqjEb6omQ"
      },
      "source": [
        ""
      ],
      "execution_count": null,
      "outputs": []
    },
    {
      "cell_type": "code",
      "metadata": {
        "id": "Opaflk5nEYUI"
      },
      "source": [
        "def plot(df,col):\n",
        "    fig,(ax1,ax2)=plt.subplots(2,1)\n",
        "    sns.distplot(df[col],ax=ax1)\n",
        "    sns.boxplot(df[col],ax=ax2)"
      ],
      "execution_count": null,
      "outputs": []
    },
    {
      "cell_type": "code",
      "metadata": {
        "id": "WMseufnXEYUI",
        "colab": {
          "base_uri": "https://localhost:8080/",
          "height": 322
        },
        "outputId": "03bc6d0f-0492-4425-c1c8-67be58b0f8c3"
      },
      "source": [
        "plt.figure(figsize=(30,20))\n",
        "plot(data_france_w1,'Temperature')"
      ],
      "execution_count": null,
      "outputs": [
        {
          "output_type": "display_data",
          "data": {
            "text/plain": [
              "<Figure size 2160x1440 with 0 Axes>"
            ]
          },
          "metadata": {
            "tags": []
          }
        },
        {
          "output_type": "display_data",
          "data": {
            "image/png": "[encoded data removed]",
            "text/plain": [
              "<Figure size 432x288 with 2 Axes>"
            ]
          },
          "metadata": {
            "tags": []
          }
        }
      ]
    },
    {
      "cell_type": "markdown",
      "metadata": {
        "id": "PoeB0dPKmLsl"
      },
      "source": [
        "Dealing with Outliers"
      ]
    },
    {
      "cell_type": "code",
      "metadata": {
        "id": "9uLejFCYEYUI"
      },
      "source": [
        "data_france_w1['Temperature']=np.where(data_france_w1['Temperature']<=2,data_france_w1['Temperature'].median(),data_france_w1['Temperature'])"
      ],
      "execution_count": null,
      "outputs": []
    },
    {
      "cell_type": "code",
      "metadata": {
        "id": "R1qcnJe-EYUI",
        "colab": {
          "base_uri": "https://localhost:8080/",
          "height": 322
        },
        "outputId": "0ab74e18-9710-4784-c1c6-7e2cb820a15e"
      },
      "source": [
        "plt.figure(figsize=(30,20))\n",
        "plot(data_france_w1,'Temperature')"
      ],
      "execution_count": null,
      "outputs": [
        {
          "output_type": "display_data",
          "data": {
            "text/plain": [
              "<Figure size 2160x1440 with 0 Axes>"
            ]
          },
          "metadata": {
            "tags": []
          }
        },
        {
          "output_type": "display_data",
          "data": {
            "image/png": "[encoded data removed]",
            "text/plain": [
              "<Figure size 432x288 with 2 Axes>"
            ]
          },
          "metadata": {
            "tags": []
          }
        }
      ]
    },
    {
      "cell_type": "markdown",
      "metadata": {
        "id": "_PDtn5NrEYUI"
      },
      "source": [
        "Separate your independent & dependent data"
      ]
    },
    {
      "cell_type": "code",
      "metadata": {
        "id": "yP5Hh8tBEYUI",
        "colab": {
          "base_uri": "https://localhost:8080/",
          "height": 257
        },
        "outputId": "3a4d3219-fce2-4621-8509-e10356af1bf6"
      },
      "source": [
        "X=data_france_w1.drop('Temperature',axis=1)\n",
        "X.head()"
      ],
      "execution_count": null,
      "outputs": [
        {
          "output_type": "execute_result",
          "data": {
            "text/html": [
              "<div>\n",
              "<style scoped>\n",
              "    .dataframe tbody tr th:only-of-type {\n",
              "        vertical-align: middle;\n",
              "    }\n",
              "\n",
              "    .dataframe tbody tr th {\n",
              "        vertical-align: top;\n",
              "    }\n",
              "\n",
              "    .dataframe thead th {\n",
              "        text-align: right;\n",
              "    }\n",
              "</style>\n",
              "<table border=\"1\" class=\"dataframe\">\n",
              "  <thead>\n",
              "    <tr style=\"text-align: right;\">\n",
              "      <th></th>\n",
              "      <th>clear sky</th>\n",
              "      <th>few clouds</th>\n",
              "      <th>light rain</th>\n",
              "      <th>mist</th>\n",
              "      <th>moderate rain</th>\n",
              "      <th>overcast clouds</th>\n",
              "      <th>scattered clouds</th>\n",
              "      <th>thunderstorm</th>\n",
              "      <th>thunderstorm with heavy rain</th>\n",
              "      <th>thunderstorm with light rain</th>\n",
              "      <th>thunderstorm with rain</th>\n",
              "      <th>Clouds</th>\n",
              "      <th>Mist</th>\n",
              "      <th>Rain</th>\n",
              "      <th>Thunderstorm</th>\n",
              "      <th>Wind_speed</th>\n",
              "      <th>feels_like</th>\n",
              "      <th>temp_min</th>\n",
              "      <th>temp_max</th>\n",
              "      <th>pressure</th>\n",
              "      <th>humidity</th>\n",
              "      <th>visibility</th>\n",
              "      <th>sunrise</th>\n",
              "      <th>sunset</th>\n",
              "      <th>day</th>\n",
              "      <th>month</th>\n",
              "      <th>year</th>\n",
              "      <th>Time_hour</th>\n",
              "      <th>Time_minute</th>\n",
              "    </tr>\n",
              "  </thead>\n",
              "  <tbody>\n",
              "    <tr>\n",
              "      <th>0</th>\n",
              "      <td>1</td>\n",
              "      <td>0</td>\n",
              "      <td>0</td>\n",
              "      <td>0</td>\n",
              "      <td>0</td>\n",
              "      <td>0</td>\n",
              "      <td>0</td>\n",
              "      <td>0</td>\n",
              "      <td>0</td>\n",
              "      <td>0</td>\n",
              "      <td>0</td>\n",
              "      <td>0</td>\n",
              "      <td>0</td>\n",
              "      <td>0</td>\n",
              "      <td>0</td>\n",
              "      <td>2.6</td>\n",
              "      <td>307.02</td>\n",
              "      <td>301.15</td>\n",
              "      <td>301.15</td>\n",
              "      <td>1009</td>\n",
              "      <td>94</td>\n",
              "      <td>6000</td>\n",
              "      <td>1582093790</td>\n",
              "      <td>1582136891</td>\n",
              "      <td>19</td>\n",
              "      <td>2</td>\n",
              "      <td>2020</td>\n",
              "      <td>4</td>\n",
              "      <td>14</td>\n",
              "    </tr>\n",
              "    <tr>\n",
              "      <th>1</th>\n",
              "      <td>1</td>\n",
              "      <td>0</td>\n",
              "      <td>0</td>\n",
              "      <td>0</td>\n",
              "      <td>0</td>\n",
              "      <td>0</td>\n",
              "      <td>0</td>\n",
              "      <td>0</td>\n",
              "      <td>0</td>\n",
              "      <td>0</td>\n",
              "      <td>0</td>\n",
              "      <td>0</td>\n",
              "      <td>0</td>\n",
              "      <td>0</td>\n",
              "      <td>0</td>\n",
              "      <td>2.6</td>\n",
              "      <td>307.02</td>\n",
              "      <td>301.15</td>\n",
              "      <td>301.15</td>\n",
              "      <td>1008</td>\n",
              "      <td>94</td>\n",
              "      <td>6000</td>\n",
              "      <td>1582093790</td>\n",
              "      <td>1582136891</td>\n",
              "      <td>19</td>\n",
              "      <td>2</td>\n",
              "      <td>2020</td>\n",
              "      <td>4</td>\n",
              "      <td>24</td>\n",
              "    </tr>\n",
              "    <tr>\n",
              "      <th>2</th>\n",
              "      <td>1</td>\n",
              "      <td>0</td>\n",
              "      <td>0</td>\n",
              "      <td>0</td>\n",
              "      <td>0</td>\n",
              "      <td>0</td>\n",
              "      <td>0</td>\n",
              "      <td>0</td>\n",
              "      <td>0</td>\n",
              "      <td>0</td>\n",
              "      <td>0</td>\n",
              "      <td>0</td>\n",
              "      <td>0</td>\n",
              "      <td>0</td>\n",
              "      <td>0</td>\n",
              "      <td>2.6</td>\n",
              "      <td>307.02</td>\n",
              "      <td>301.15</td>\n",
              "      <td>301.15</td>\n",
              "      <td>1008</td>\n",
              "      <td>94</td>\n",
              "      <td>6000</td>\n",
              "      <td>1582093790</td>\n",
              "      <td>1582136891</td>\n",
              "      <td>19</td>\n",
              "      <td>2</td>\n",
              "      <td>2020</td>\n",
              "      <td>4</td>\n",
              "      <td>34</td>\n",
              "    </tr>\n",
              "    <tr>\n",
              "      <th>3</th>\n",
              "      <td>1</td>\n",
              "      <td>0</td>\n",
              "      <td>0</td>\n",
              "      <td>0</td>\n",
              "      <td>0</td>\n",
              "      <td>0</td>\n",
              "      <td>0</td>\n",
              "      <td>0</td>\n",
              "      <td>0</td>\n",
              "      <td>0</td>\n",
              "      <td>0</td>\n",
              "      <td>0</td>\n",
              "      <td>0</td>\n",
              "      <td>0</td>\n",
              "      <td>0</td>\n",
              "      <td>2.6</td>\n",
              "      <td>307.02</td>\n",
              "      <td>301.15</td>\n",
              "      <td>301.15</td>\n",
              "      <td>1008</td>\n",
              "      <td>94</td>\n",
              "      <td>6000</td>\n",
              "      <td>1582093790</td>\n",
              "      <td>1582136891</td>\n",
              "      <td>19</td>\n",
              "      <td>2</td>\n",
              "      <td>2020</td>\n",
              "      <td>4</td>\n",
              "      <td>44</td>\n",
              "    </tr>\n",
              "    <tr>\n",
              "      <th>4</th>\n",
              "      <td>1</td>\n",
              "      <td>0</td>\n",
              "      <td>0</td>\n",
              "      <td>0</td>\n",
              "      <td>0</td>\n",
              "      <td>0</td>\n",
              "      <td>0</td>\n",
              "      <td>0</td>\n",
              "      <td>0</td>\n",
              "      <td>0</td>\n",
              "      <td>0</td>\n",
              "      <td>0</td>\n",
              "      <td>0</td>\n",
              "      <td>0</td>\n",
              "      <td>0</td>\n",
              "      <td>2.6</td>\n",
              "      <td>307.02</td>\n",
              "      <td>301.15</td>\n",
              "      <td>301.15</td>\n",
              "      <td>1008</td>\n",
              "      <td>94</td>\n",
              "      <td>6000</td>\n",
              "      <td>1582093790</td>\n",
              "      <td>1582136891</td>\n",
              "      <td>19</td>\n",
              "      <td>2</td>\n",
              "      <td>2020</td>\n",
              "      <td>4</td>\n",
              "      <td>54</td>\n",
              "    </tr>\n",
              "  </tbody>\n",
              "</table>\n",
              "</div>"
            ],
            "text/plain": [
              "   clear sky  few clouds  light rain  mist  ...  month  year  Time_hour  Time_minute\n",
              "0          1           0           0     0  ...      2  2020          4           14\n",
              "1          1           0           0     0  ...      2  2020          4           24\n",
              "2          1           0           0     0  ...      2  2020          4           34\n",
              "3          1           0           0     0  ...      2  2020          4           44\n",
              "4          1           0           0     0  ...      2  2020          4           54\n",
              "\n",
              "[5 rows x 29 columns]"
            ]
          },
          "metadata": {
            "tags": []
          },
          "execution_count": 135
        }
      ]
    },
    {
      "cell_type": "code",
      "metadata": {
        "colab": {
          "base_uri": "https://localhost:8080/"
        },
        "id": "h2f5tU-I1PTi",
        "outputId": "080f7b88-b4b5-43cc-f1de-d9cabac70c0e"
      },
      "source": [
        "X.shape"
      ],
      "execution_count": null,
      "outputs": [
        {
          "output_type": "execute_result",
          "data": {
            "text/plain": [
              "(7471, 29)"
            ]
          },
          "metadata": {
            "tags": []
          },
          "execution_count": 136
        }
      ]
    },
    {
      "cell_type": "code",
      "metadata": {
        "colab": {
          "base_uri": "https://localhost:8080/"
        },
        "id": "DbyR9CKgwj0n",
        "outputId": "be8f1454-d746-47f1-99ce-7bf0b4451fe6"
      },
      "source": [
        "np.array(X)"
      ],
      "execution_count": null,
      "outputs": [
        {
          "output_type": "execute_result",
          "data": {
            "text/plain": [
              "array([[1.00e+00, 0.00e+00, 0.00e+00, ..., 2.02e+03, 4.00e+00, 1.40e+01],\n",
              "       [1.00e+00, 0.00e+00, 0.00e+00, ..., 2.02e+03, 4.00e+00, 2.40e+01],\n",
              "       [1.00e+00, 0.00e+00, 0.00e+00, ..., 2.02e+03, 4.00e+00, 3.40e+01],\n",
              "       ...,\n",
              "       [0.00e+00, 1.00e+00, 0.00e+00, ..., 2.02e+03, 1.80e+01, 2.40e+01],\n",
              "       [0.00e+00, 1.00e+00, 0.00e+00, ..., 2.02e+03, 1.80e+01, 3.40e+01],\n",
              "       [0.00e+00, 1.00e+00, 0.00e+00, ..., 2.02e+03, 1.80e+01, 4.40e+01]])"
            ]
          },
          "metadata": {
            "tags": []
          },
          "execution_count": 137
        }
      ]
    },
    {
      "cell_type": "code",
      "metadata": {
        "id": "_R4Wv-fLEYUI",
        "colab": {
          "base_uri": "https://localhost:8080/"
        },
        "outputId": "740f93d3-2d75-48c5-8793-62f12378aa6e"
      },
      "source": [
        "y=data_france_w1['Temperature']\n",
        "y"
      ],
      "execution_count": null,
      "outputs": [
        {
          "output_type": "execute_result",
          "data": {
            "text/plain": [
              "0       6.0\n",
              "1       6.0\n",
              "2       6.0\n",
              "3       6.0\n",
              "4       6.0\n",
              "       ... \n",
              "7466    7.0\n",
              "7467    7.0\n",
              "7468    7.0\n",
              "7469    7.0\n",
              "7470    7.0\n",
              "Name: Temperature, Length: 7471, dtype: float64"
            ]
          },
          "metadata": {
            "tags": []
          },
          "execution_count": 138
        }
      ]
    },
    {
      "cell_type": "code",
      "metadata": {
        "colab": {
          "base_uri": "https://localhost:8080/"
        },
        "id": "YmlAM5l9wr6Q",
        "outputId": "6e2d891a-b642-435f-e234-cfcf09337f29"
      },
      "source": [
        "np.array(y)"
      ],
      "execution_count": null,
      "outputs": [
        {
          "output_type": "execute_result",
          "data": {
            "text/plain": [
              "array([6., 6., 6., ..., 7., 7., 7.])"
            ]
          },
          "metadata": {
            "tags": []
          },
          "execution_count": 139
        }
      ]
    },
    {
      "cell_type": "code",
      "metadata": {
        "colab": {
          "base_uri": "https://localhost:8080/"
        },
        "id": "eViZ9J4K1vS6",
        "outputId": "4ccfeac4-32c2-4af6-b6e8-a4f74f628551"
      },
      "source": [
        "y.shape"
      ],
      "execution_count": null,
      "outputs": [
        {
          "output_type": "execute_result",
          "data": {
            "text/plain": [
              "(7471,)"
            ]
          },
          "metadata": {
            "tags": []
          },
          "execution_count": 140
        }
      ]
    },
    {
      "cell_type": "code",
      "metadata": {
        "id": "EssAUyqk8KQw"
      },
      "source": [
        "from sklearn.preprocessing import LabelEncoder\n",
        "le = LabelEncoder()\n",
        "\n",
        "X = [data_france_w1.drop('Temperature',axis=1)]\n",
        "y = [data_france_w1['Temperature']]\n"
      ],
      "execution_count": null,
      "outputs": []
    },
    {
      "cell_type": "code",
      "metadata": {
        "colab": {
          "base_uri": "https://localhost:8080/",
          "height": 314
        },
        "id": "7HST4mTV8KVN",
        "outputId": "cf966579-2b00-4fa7-f69a-7e7b6e8e533f"
      },
      "source": [
        "le.fit(X).transform(y)"
      ],
      "execution_count": null,
      "outputs": [
        {
          "output_type": "error",
          "ename": "ValueError",
          "evalue": "ignored",
          "traceback": [
            "\u001b[0;31m---------------------------------------------------------------------------\u001b[0m",
            "\u001b[0;31mValueError\u001b[0m                                Traceback (most recent call last)",
            "\u001b[0;32m<ipython-input-123-eb169314025e>\u001b[0m in \u001b[0;36m<module>\u001b[0;34m()\u001b[0m\n\u001b[0;32m----> 1\u001b[0;31m \u001b[0mle\u001b[0m\u001b[0;34m.\u001b[0m\u001b[0mfit\u001b[0m\u001b[0;34m(\u001b[0m\u001b[0mX\u001b[0m\u001b[0;34m)\u001b[0m\u001b[0;34m.\u001b[0m\u001b[0mtransform\u001b[0m\u001b[0;34m(\u001b[0m\u001b[0my\u001b[0m\u001b[0;34m)\u001b[0m\u001b[0;34m\u001b[0m\u001b[0;34m\u001b[0m\u001b[0m\n\u001b[0m",
            "\u001b[0;32m/usr/local/lib/python3.7/dist-packages/sklearn/preprocessing/_label.py\u001b[0m in \u001b[0;36mfit\u001b[0;34m(self, y)\u001b[0m\n\u001b[1;32m    233\u001b[0m         \u001b[0mself\u001b[0m \u001b[0;34m:\u001b[0m \u001b[0mreturns\u001b[0m \u001b[0man\u001b[0m \u001b[0minstance\u001b[0m \u001b[0mof\u001b[0m \u001b[0mself\u001b[0m\u001b[0;34m.\u001b[0m\u001b[0;34m\u001b[0m\u001b[0;34m\u001b[0m\u001b[0m\n\u001b[1;32m    234\u001b[0m         \"\"\"\n\u001b[0;32m--> 235\u001b[0;31m         \u001b[0my\u001b[0m \u001b[0;34m=\u001b[0m \u001b[0mcolumn_or_1d\u001b[0m\u001b[0;34m(\u001b[0m\u001b[0my\u001b[0m\u001b[0;34m,\u001b[0m \u001b[0mwarn\u001b[0m\u001b[0;34m=\u001b[0m\u001b[0;32mTrue\u001b[0m\u001b[0;34m)\u001b[0m\u001b[0;34m\u001b[0m\u001b[0;34m\u001b[0m\u001b[0m\n\u001b[0m\u001b[1;32m    236\u001b[0m         \u001b[0mself\u001b[0m\u001b[0;34m.\u001b[0m\u001b[0mclasses_\u001b[0m \u001b[0;34m=\u001b[0m \u001b[0m_encode\u001b[0m\u001b[0;34m(\u001b[0m\u001b[0my\u001b[0m\u001b[0;34m)\u001b[0m\u001b[0;34m\u001b[0m\u001b[0;34m\u001b[0m\u001b[0m\n\u001b[1;32m    237\u001b[0m         \u001b[0;32mreturn\u001b[0m \u001b[0mself\u001b[0m\u001b[0;34m\u001b[0m\u001b[0;34m\u001b[0m\u001b[0m\n",
            "\u001b[0;32m/usr/local/lib/python3.7/dist-packages/sklearn/utils/validation.py\u001b[0m in \u001b[0;36mcolumn_or_1d\u001b[0;34m(y, warn)\u001b[0m\n\u001b[1;32m    795\u001b[0m         \u001b[0;32mreturn\u001b[0m \u001b[0mnp\u001b[0m\u001b[0;34m.\u001b[0m\u001b[0mravel\u001b[0m\u001b[0;34m(\u001b[0m\u001b[0my\u001b[0m\u001b[0;34m)\u001b[0m\u001b[0;34m\u001b[0m\u001b[0;34m\u001b[0m\u001b[0m\n\u001b[1;32m    796\u001b[0m \u001b[0;34m\u001b[0m\u001b[0m\n\u001b[0;32m--> 797\u001b[0;31m     \u001b[0;32mraise\u001b[0m \u001b[0mValueError\u001b[0m\u001b[0;34m(\u001b[0m\u001b[0;34m\"bad input shape {0}\"\u001b[0m\u001b[0;34m.\u001b[0m\u001b[0mformat\u001b[0m\u001b[0;34m(\u001b[0m\u001b[0mshape\u001b[0m\u001b[0;34m)\u001b[0m\u001b[0;34m)\u001b[0m\u001b[0;34m\u001b[0m\u001b[0;34m\u001b[0m\u001b[0m\n\u001b[0m\u001b[1;32m    798\u001b[0m \u001b[0;34m\u001b[0m\u001b[0m\n\u001b[1;32m    799\u001b[0m \u001b[0;34m\u001b[0m\u001b[0m\n",
            "\u001b[0;31mValueError\u001b[0m: bad input shape (1, 7471, 29)"
          ]
        }
      ]
    },
    {
      "cell_type": "markdown",
      "metadata": {
        "id": "TOKs9meFEYUJ"
      },
      "source": [
        "Feature Selection\n",
        "\n",
        "Finding out the best feature which will contribute and have good relation with target variable.\n",
        "\n",
        "Why to apply Feature Selection?\n",
        "\n",
        "To select important features to get rid of curse of dimensionality ie..to get rid of duplicate features"
      ]
    },
    {
      "cell_type": "markdown",
      "metadata": {
        "id": "ogo7ZocyEYUJ"
      },
      "source": [
        "I wanted to find mutual information scores or matrix to get to know about the relationship between all features."
      ]
    },
    {
      "cell_type": "markdown",
      "metadata": {
        "id": "dUm2ABLoEYUJ"
      },
      "source": [
        "Feature Selection using Information Gain,"
      ]
    },
    {
      "cell_type": "code",
      "metadata": {
        "id": "NNfQpPHFGLuX"
      },
      "source": [
        ""
      ],
      "execution_count": null,
      "outputs": []
    },
    {
      "cell_type": "code",
      "metadata": {
        "id": "HkR-WaAUGLoB"
      },
      "source": [
        ""
      ],
      "execution_count": null,
      "outputs": []
    },
    {
      "cell_type": "code",
      "metadata": {
        "id": "6DG528edGLka"
      },
      "source": [
        ""
      ],
      "execution_count": null,
      "outputs": []
    },
    {
      "cell_type": "code",
      "metadata": {
        "id": "CBajbtWwEYUJ"
      },
      "source": [
        "from sklearn.feature_selection import mutual_info_classif"
      ],
      "execution_count": null,
      "outputs": []
    },
    {
      "cell_type": "code",
      "metadata": {
        "id": "RUpLG6eyK3ZS"
      },
      "source": [
        "mutual_info_classif(X,y)"
      ],
      "execution_count": null,
      "outputs": []
    },
    {
      "cell_type": "code",
      "metadata": {
        "id": "ESP8oXlkEYUJ"
      },
      "source": [
        "from sklearn.model_selection import train_test_split"
      ],
      "execution_count": null,
      "outputs": []
    },
    {
      "cell_type": "code",
      "metadata": {
        "id": "orjZTG_ExCeC",
        "colab": {
          "base_uri": "https://localhost:8080/",
          "height": 314
        },
        "outputId": "43511ea4-ebae-4257-8c5b-704aa5d73d8c"
      },
      "source": [
        "X_train,X_test,y_train,y_test=train_test_split(X,y,test_size=0.25)"
      ],
      "execution_count": null,
      "outputs": [
        {
          "output_type": "error",
          "ename": "ValueError",
          "evalue": "ignored",
          "traceback": [
            "\u001b[0;31m---------------------------------------------------------------------------\u001b[0m",
            "\u001b[0;31mValueError\u001b[0m                                Traceback (most recent call last)",
            "\u001b[0;32m<ipython-input-127-df3dde1052cf>\u001b[0m in \u001b[0;36m<module>\u001b[0;34m()\u001b[0m\n\u001b[0;32m----> 1\u001b[0;31m \u001b[0mX_train\u001b[0m\u001b[0;34m,\u001b[0m\u001b[0mX_test\u001b[0m\u001b[0;34m,\u001b[0m\u001b[0my_train\u001b[0m\u001b[0;34m,\u001b[0m\u001b[0my_test\u001b[0m\u001b[0;34m=\u001b[0m\u001b[0mtrain_test_split\u001b[0m\u001b[0;34m(\u001b[0m\u001b[0mX\u001b[0m\u001b[0;34m,\u001b[0m\u001b[0my\u001b[0m\u001b[0;34m,\u001b[0m\u001b[0mtest_size\u001b[0m\u001b[0;34m=\u001b[0m\u001b[0;36m0.25\u001b[0m\u001b[0;34m)\u001b[0m\u001b[0;34m\u001b[0m\u001b[0;34m\u001b[0m\u001b[0m\n\u001b[0m",
            "\u001b[0;32m/usr/local/lib/python3.7/dist-packages/sklearn/model_selection/_split.py\u001b[0m in \u001b[0;36mtrain_test_split\u001b[0;34m(*arrays, **options)\u001b[0m\n\u001b[1;32m   2120\u001b[0m     \u001b[0mn_samples\u001b[0m \u001b[0;34m=\u001b[0m \u001b[0m_num_samples\u001b[0m\u001b[0;34m(\u001b[0m\u001b[0marrays\u001b[0m\u001b[0;34m[\u001b[0m\u001b[0;36m0\u001b[0m\u001b[0;34m]\u001b[0m\u001b[0;34m)\u001b[0m\u001b[0;34m\u001b[0m\u001b[0;34m\u001b[0m\u001b[0m\n\u001b[1;32m   2121\u001b[0m     n_train, n_test = _validate_shuffle_split(n_samples, test_size, train_size,\n\u001b[0;32m-> 2122\u001b[0;31m                                               default_test_size=0.25)\n\u001b[0m\u001b[1;32m   2123\u001b[0m \u001b[0;34m\u001b[0m\u001b[0m\n\u001b[1;32m   2124\u001b[0m     \u001b[0;32mif\u001b[0m \u001b[0mshuffle\u001b[0m \u001b[0;32mis\u001b[0m \u001b[0;32mFalse\u001b[0m\u001b[0;34m:\u001b[0m\u001b[0;34m\u001b[0m\u001b[0;34m\u001b[0m\u001b[0m\n",
            "\u001b[0;32m/usr/local/lib/python3.7/dist-packages/sklearn/model_selection/_split.py\u001b[0m in \u001b[0;36m_validate_shuffle_split\u001b[0;34m(n_samples, test_size, train_size, default_test_size)\u001b[0m\n\u001b[1;32m   1803\u001b[0m             \u001b[0;34m'resulting train set will be empty. Adjust any of the '\u001b[0m\u001b[0;34m\u001b[0m\u001b[0;34m\u001b[0m\u001b[0m\n\u001b[1;32m   1804\u001b[0m             'aforementioned parameters.'.format(n_samples, test_size,\n\u001b[0;32m-> 1805\u001b[0;31m                                                 train_size)\n\u001b[0m\u001b[1;32m   1806\u001b[0m         )\n\u001b[1;32m   1807\u001b[0m \u001b[0;34m\u001b[0m\u001b[0m\n",
            "\u001b[0;31mValueError\u001b[0m: With n_samples=1, test_size=0.25 and train_size=None, the resulting train set will be empty. Adjust any of the aforementioned parameters."
          ]
        }
      ]
    },
    {
      "cell_type": "code",
      "metadata": {
        "id": "SwNOGJvKxB3r"
      },
      "source": [
        "print(X_train)"
      ],
      "execution_count": null,
      "outputs": []
    },
    {
      "cell_type": "code",
      "metadata": {
        "id": "pHdSoKprxJsp"
      },
      "source": [
        "print(X_test)"
      ],
      "execution_count": null,
      "outputs": []
    },
    {
      "cell_type": "code",
      "metadata": {
        "id": "IOVLd3tix24g"
      },
      "source": [
        "from sklearn.preprocessing import LabelEncoder\n",
        "france_w1 = pd.read_csv(r'/content/drive/MyDrive/France dataset/france_weather.csv')\n",
        "\n",
        "france_w1\n",
        "\n",
        "cat_features=[x for x in france_w1.columns if france_w1[x].dtype==\"object\"]\n",
        "\n",
        "le=LabelEncoder()\n",
        "\n",
        "for col in cat_features:\n",
        "    if col in france_w1.columns:\n",
        "        i = france_w1.columns.get_loc(col)\n",
        "        france_w1.iloc[:,i] = france_w1.apply(lambda i:le.fit_transform(i.astype(str)), axis=0, result_type='expand')"
      ],
      "execution_count": null,
      "outputs": []
    },
    {
      "cell_type": "code",
      "metadata": {
        "colab": {
          "base_uri": "https://localhost:8080/"
        },
        "id": "XhhXByYvqR9Q",
        "outputId": "93ab192a-2aca-4e64-827b-1e44e55ae67a"
      },
      "source": [
        "france_w1.info()"
      ],
      "execution_count": null,
      "outputs": [
        {
          "output_type": "stream",
          "text": [
            "<class 'pandas.core.frame.DataFrame'>\n",
            "RangeIndex: 7471 entries, 0 to 7470\n",
            "Data columns (total 16 columns):\n",
            " #   Column       Non-Null Count  Dtype  \n",
            "---  ------       --------------  -----  \n",
            " 0   Unnamed: 0   7471 non-null   int64  \n",
            " 1   Temperature  7471 non-null   float64\n",
            " 2   Wind_speed   7471 non-null   float64\n",
            " 3   Description  7471 non-null   int64  \n",
            " 4   Weather      7471 non-null   int64  \n",
            " 5   feels_like   7471 non-null   float64\n",
            " 6   name         7471 non-null   int64  \n",
            " 7   temp_min     7471 non-null   float64\n",
            " 8   temp_max     7471 non-null   float64\n",
            " 9   pressure     7471 non-null   int64  \n",
            " 10  humidity     7471 non-null   int64  \n",
            " 11  visibility   7471 non-null   int64  \n",
            " 12  sunrise      7471 non-null   int64  \n",
            " 13  sunset       7471 non-null   int64  \n",
            " 14  Date         7471 non-null   int64  \n",
            " 15  Time         7471 non-null   int64  \n",
            "dtypes: float64(5), int64(11)\n",
            "memory usage: 934.0 KB\n"
          ],
          "name": "stdout"
        }
      ]
    },
    {
      "cell_type": "code",
      "metadata": {
        "id": "NBZBf5OUxj7s"
      },
      "source": [
        ""
      ],
      "execution_count": null,
      "outputs": []
    },
    {
      "cell_type": "code",
      "metadata": {
        "id": "V4Edu-a5xkBA"
      },
      "source": [
        ""
      ],
      "execution_count": null,
      "outputs": []
    },
    {
      "cell_type": "code",
      "metadata": {
        "id": "HuiV7ClExkFu"
      },
      "source": [
        ""
      ],
      "execution_count": null,
      "outputs": []
    },
    {
      "cell_type": "code",
      "metadata": {
        "id": "jiWtjM-1xkMK"
      },
      "source": [
        ""
      ],
      "execution_count": null,
      "outputs": []
    },
    {
      "cell_type": "code",
      "metadata": {
        "id": "N4M7O349EYUJ"
      },
      "source": [
        "from sklearn.linear_model import LinearRegression\n",
        "from sklearn.neighbors import KNeighborsRegressor\n",
        "from sklearn.ensemble import RandomForestRegressor\n",
        "from sklearn.tree import DecisionTreeRegressor"
      ],
      "execution_count": null,
      "outputs": []
    },
    {
      "cell_type": "code",
      "metadata": {
        "id": "CsKiy-bqEYUJ"
      },
      "source": [
        "clf = LinearRegression()\n",
        "clf.fit(X_train, y_train)\n",
        "print(\"LinearRegression\")\n",
        "print(clf.predict(X_test))"
      ],
      "execution_count": null,
      "outputs": []
    },
    {
      "cell_type": "code",
      "metadata": {
        "id": "PxarbNshEYUK"
      },
      "source": [
        "clf = LinearRegression()\n",
        "clf.fit(X_train, y_train)\n",
        "print(\"LinearRegression\")\n",
        "print(clf.predict(X_train))"
      ],
      "execution_count": null,
      "outputs": []
    },
    {
      "cell_type": "code",
      "metadata": {
        "id": "274EbX_IEYUK"
      },
      "source": [
        ""
      ],
      "execution_count": null,
      "outputs": []
    },
    {
      "cell_type": "code",
      "metadata": {
        "id": "SBP2zk61EYUK",
        "colab": {
          "base_uri": "https://localhost:8080/",
          "height": 350
        },
        "outputId": "91c521af-61fe-4e9a-ab9d-acf031d89aa8"
      },
      "source": [
        "from sklearn import preprocessing\n",
        "from sklearn import utils\n",
        "\n",
        "lab_enc = preprocessing.LabelEncoder()\n",
        "encoded = lab_enc.fit_transform(X_train)"
      ],
      "execution_count": null,
      "outputs": [
        {
          "output_type": "error",
          "ename": "ValueError",
          "evalue": "ignored",
          "traceback": [
            "\u001b[0;31m---------------------------------------------------------------------------\u001b[0m",
            "\u001b[0;31mValueError\u001b[0m                                Traceback (most recent call last)",
            "\u001b[0;32m<ipython-input-102-8953401f97bd>\u001b[0m in \u001b[0;36m<module>\u001b[0;34m()\u001b[0m\n\u001b[1;32m      3\u001b[0m \u001b[0;34m\u001b[0m\u001b[0m\n\u001b[1;32m      4\u001b[0m \u001b[0mlab_enc\u001b[0m \u001b[0;34m=\u001b[0m \u001b[0mpreprocessing\u001b[0m\u001b[0;34m.\u001b[0m\u001b[0mLabelEncoder\u001b[0m\u001b[0;34m(\u001b[0m\u001b[0;34m)\u001b[0m\u001b[0;34m\u001b[0m\u001b[0;34m\u001b[0m\u001b[0m\n\u001b[0;32m----> 5\u001b[0;31m \u001b[0mencoded\u001b[0m \u001b[0;34m=\u001b[0m \u001b[0mlab_enc\u001b[0m\u001b[0;34m.\u001b[0m\u001b[0mfit_transform\u001b[0m\u001b[0;34m(\u001b[0m\u001b[0mX_train\u001b[0m\u001b[0;34m)\u001b[0m\u001b[0;34m\u001b[0m\u001b[0;34m\u001b[0m\u001b[0m\n\u001b[0m",
            "\u001b[0;32m/usr/local/lib/python3.7/dist-packages/sklearn/preprocessing/_label.py\u001b[0m in \u001b[0;36mfit_transform\u001b[0;34m(self, y)\u001b[0m\n\u001b[1;32m    249\u001b[0m         \u001b[0my\u001b[0m \u001b[0;34m:\u001b[0m \u001b[0marray\u001b[0m\u001b[0;34m-\u001b[0m\u001b[0mlike\u001b[0m \u001b[0mof\u001b[0m \u001b[0mshape\u001b[0m \u001b[0;34m[\u001b[0m\u001b[0mn_samples\u001b[0m\u001b[0;34m]\u001b[0m\u001b[0;34m\u001b[0m\u001b[0;34m\u001b[0m\u001b[0m\n\u001b[1;32m    250\u001b[0m         \"\"\"\n\u001b[0;32m--> 251\u001b[0;31m         \u001b[0my\u001b[0m \u001b[0;34m=\u001b[0m \u001b[0mcolumn_or_1d\u001b[0m\u001b[0;34m(\u001b[0m\u001b[0my\u001b[0m\u001b[0;34m,\u001b[0m \u001b[0mwarn\u001b[0m\u001b[0;34m=\u001b[0m\u001b[0;32mTrue\u001b[0m\u001b[0;34m)\u001b[0m\u001b[0;34m\u001b[0m\u001b[0;34m\u001b[0m\u001b[0m\n\u001b[0m\u001b[1;32m    252\u001b[0m         \u001b[0mself\u001b[0m\u001b[0;34m.\u001b[0m\u001b[0mclasses_\u001b[0m\u001b[0;34m,\u001b[0m \u001b[0my\u001b[0m \u001b[0;34m=\u001b[0m \u001b[0m_encode\u001b[0m\u001b[0;34m(\u001b[0m\u001b[0my\u001b[0m\u001b[0;34m,\u001b[0m \u001b[0mencode\u001b[0m\u001b[0;34m=\u001b[0m\u001b[0;32mTrue\u001b[0m\u001b[0;34m)\u001b[0m\u001b[0;34m\u001b[0m\u001b[0;34m\u001b[0m\u001b[0m\n\u001b[1;32m    253\u001b[0m         \u001b[0;32mreturn\u001b[0m \u001b[0my\u001b[0m\u001b[0;34m\u001b[0m\u001b[0;34m\u001b[0m\u001b[0m\n",
            "\u001b[0;32m/usr/local/lib/python3.7/dist-packages/sklearn/utils/validation.py\u001b[0m in \u001b[0;36mcolumn_or_1d\u001b[0;34m(y, warn)\u001b[0m\n\u001b[1;32m    795\u001b[0m         \u001b[0;32mreturn\u001b[0m \u001b[0mnp\u001b[0m\u001b[0;34m.\u001b[0m\u001b[0mravel\u001b[0m\u001b[0;34m(\u001b[0m\u001b[0my\u001b[0m\u001b[0;34m)\u001b[0m\u001b[0;34m\u001b[0m\u001b[0;34m\u001b[0m\u001b[0m\n\u001b[1;32m    796\u001b[0m \u001b[0;34m\u001b[0m\u001b[0m\n\u001b[0;32m--> 797\u001b[0;31m     \u001b[0;32mraise\u001b[0m \u001b[0mValueError\u001b[0m\u001b[0;34m(\u001b[0m\u001b[0;34m\"bad input shape {0}\"\u001b[0m\u001b[0;34m.\u001b[0m\u001b[0mformat\u001b[0m\u001b[0;34m(\u001b[0m\u001b[0mshape\u001b[0m\u001b[0;34m)\u001b[0m\u001b[0;34m)\u001b[0m\u001b[0;34m\u001b[0m\u001b[0;34m\u001b[0m\u001b[0m\n\u001b[0m\u001b[1;32m    798\u001b[0m \u001b[0;34m\u001b[0m\u001b[0m\n\u001b[1;32m    799\u001b[0m \u001b[0;34m\u001b[0m\u001b[0m\n",
            "\u001b[0;31mValueError\u001b[0m: bad input shape (5976, 29)"
          ]
        }
      ]
    },
    {
      "cell_type": "code",
      "metadata": {
        "id": "QiF85GULEYUK",
        "colab": {
          "base_uri": "https://localhost:8080/"
        },
        "outputId": "2a555fa5-07b4-4841-b588-21a6ca3b9520"
      },
      "source": [
        "print(utils.multiclass.type_of_target(y_train.astype('int')))"
      ],
      "execution_count": null,
      "outputs": [
        {
          "output_type": "stream",
          "text": [
            "multiclass\n"
          ],
          "name": "stdout"
        }
      ]
    },
    {
      "cell_type": "code",
      "metadata": {
        "id": "eH7ipraUEYUK",
        "colab": {
          "base_uri": "https://localhost:8080/"
        },
        "outputId": "9960ec77-33e1-4bfd-d21a-afe9bec1780f"
      },
      "source": [
        "print(utils.multiclass.type_of_target(y_test.astype('int')))"
      ],
      "execution_count": null,
      "outputs": [
        {
          "output_type": "stream",
          "text": [
            "multiclass\n"
          ],
          "name": "stdout"
        }
      ]
    },
    {
      "cell_type": "code",
      "metadata": {
        "colab": {
          "base_uri": "https://localhost:8080/",
          "height": 684
        },
        "id": "iP-VCrMsBszy",
        "outputId": "9a63b3df-b117-4fc5-8b43-8a714cc855fa"
      },
      "source": [
        "mutual_info_classif(X,y)"
      ],
      "execution_count": null,
      "outputs": [
        {
          "output_type": "error",
          "ename": "ValueError",
          "evalue": "ignored",
          "traceback": [
            "\u001b[0;31m---------------------------------------------------------------------------\u001b[0m",
            "\u001b[0;31mValueError\u001b[0m                                Traceback (most recent call last)",
            "\u001b[0;32m<ipython-input-105-8178b1f74a80>\u001b[0m in \u001b[0;36m<module>\u001b[0;34m()\u001b[0m\n\u001b[0;32m----> 1\u001b[0;31m \u001b[0mmutual_info_classif\u001b[0m\u001b[0;34m(\u001b[0m\u001b[0mX\u001b[0m\u001b[0;34m,\u001b[0m\u001b[0my\u001b[0m\u001b[0;34m)\u001b[0m\u001b[0;34m\u001b[0m\u001b[0;34m\u001b[0m\u001b[0m\n\u001b[0m",
            "\u001b[0;32m/usr/local/lib/python3.7/dist-packages/sklearn/feature_selection/_mutual_info.py\u001b[0m in \u001b[0;36mmutual_info_classif\u001b[0;34m(X, y, discrete_features, n_neighbors, copy, random_state)\u001b[0m\n\u001b[1;32m    449\u001b[0m     \u001b[0mcheck_classification_targets\u001b[0m\u001b[0;34m(\u001b[0m\u001b[0my\u001b[0m\u001b[0;34m)\u001b[0m\u001b[0;34m\u001b[0m\u001b[0;34m\u001b[0m\u001b[0m\n\u001b[1;32m    450\u001b[0m     return _estimate_mi(X, y, discrete_features, True, n_neighbors,\n\u001b[0;32m--> 451\u001b[0;31m                         copy, random_state)\n\u001b[0m",
            "\u001b[0;32m/usr/local/lib/python3.7/dist-packages/sklearn/feature_selection/_mutual_info.py\u001b[0m in \u001b[0;36m_estimate_mi\u001b[0;34m(X, y, discrete_features, discrete_target, n_neighbors, copy, random_state)\u001b[0m\n\u001b[1;32m    245\u001b[0m            \u001b[0mData\u001b[0m \u001b[0mSets\u001b[0m\u001b[0;31m\"\u001b[0m\u001b[0;34m.\u001b[0m \u001b[0mPLoS\u001b[0m \u001b[0mONE\u001b[0m \u001b[0;36m9\u001b[0m\u001b[0;34m(\u001b[0m\u001b[0;36m2\u001b[0m\u001b[0;34m)\u001b[0m\u001b[0;34m,\u001b[0m \u001b[0;36m2014.\u001b[0m\u001b[0;34m\u001b[0m\u001b[0;34m\u001b[0m\u001b[0m\n\u001b[1;32m    246\u001b[0m     \"\"\"\n\u001b[0;32m--> 247\u001b[0;31m     \u001b[0mX\u001b[0m\u001b[0;34m,\u001b[0m \u001b[0my\u001b[0m \u001b[0;34m=\u001b[0m \u001b[0mcheck_X_y\u001b[0m\u001b[0;34m(\u001b[0m\u001b[0mX\u001b[0m\u001b[0;34m,\u001b[0m \u001b[0my\u001b[0m\u001b[0;34m,\u001b[0m \u001b[0maccept_sparse\u001b[0m\u001b[0;34m=\u001b[0m\u001b[0;34m'csc'\u001b[0m\u001b[0;34m,\u001b[0m \u001b[0my_numeric\u001b[0m\u001b[0;34m=\u001b[0m\u001b[0;32mnot\u001b[0m \u001b[0mdiscrete_target\u001b[0m\u001b[0;34m)\u001b[0m\u001b[0;34m\u001b[0m\u001b[0;34m\u001b[0m\u001b[0m\n\u001b[0m\u001b[1;32m    248\u001b[0m     \u001b[0mn_samples\u001b[0m\u001b[0;34m,\u001b[0m \u001b[0mn_features\u001b[0m \u001b[0;34m=\u001b[0m \u001b[0mX\u001b[0m\u001b[0;34m.\u001b[0m\u001b[0mshape\u001b[0m\u001b[0;34m\u001b[0m\u001b[0;34m\u001b[0m\u001b[0m\n\u001b[1;32m    249\u001b[0m \u001b[0;34m\u001b[0m\u001b[0m\n",
            "\u001b[0;32m/usr/local/lib/python3.7/dist-packages/sklearn/utils/validation.py\u001b[0m in \u001b[0;36mcheck_X_y\u001b[0;34m(X, y, accept_sparse, accept_large_sparse, dtype, order, copy, force_all_finite, ensure_2d, allow_nd, multi_output, ensure_min_samples, ensure_min_features, y_numeric, warn_on_dtype, estimator)\u001b[0m\n\u001b[1;32m    753\u001b[0m                     \u001b[0mensure_min_features\u001b[0m\u001b[0;34m=\u001b[0m\u001b[0mensure_min_features\u001b[0m\u001b[0;34m,\u001b[0m\u001b[0;34m\u001b[0m\u001b[0;34m\u001b[0m\u001b[0m\n\u001b[1;32m    754\u001b[0m                     \u001b[0mwarn_on_dtype\u001b[0m\u001b[0;34m=\u001b[0m\u001b[0mwarn_on_dtype\u001b[0m\u001b[0;34m,\u001b[0m\u001b[0;34m\u001b[0m\u001b[0;34m\u001b[0m\u001b[0m\n\u001b[0;32m--> 755\u001b[0;31m                     estimator=estimator)\n\u001b[0m\u001b[1;32m    756\u001b[0m     \u001b[0;32mif\u001b[0m \u001b[0mmulti_output\u001b[0m\u001b[0;34m:\u001b[0m\u001b[0;34m\u001b[0m\u001b[0;34m\u001b[0m\u001b[0m\n\u001b[1;32m    757\u001b[0m         y = check_array(y, 'csr', force_all_finite=True, ensure_2d=False,\n",
            "\u001b[0;32m/usr/local/lib/python3.7/dist-packages/sklearn/utils/validation.py\u001b[0m in \u001b[0;36mcheck_array\u001b[0;34m(array, accept_sparse, accept_large_sparse, dtype, order, copy, force_all_finite, ensure_2d, allow_nd, ensure_min_samples, ensure_min_features, warn_on_dtype, estimator)\u001b[0m\n\u001b[1;32m    572\u001b[0m         \u001b[0;32mif\u001b[0m \u001b[0;32mnot\u001b[0m \u001b[0mallow_nd\u001b[0m \u001b[0;32mand\u001b[0m \u001b[0marray\u001b[0m\u001b[0;34m.\u001b[0m\u001b[0mndim\u001b[0m \u001b[0;34m>=\u001b[0m \u001b[0;36m3\u001b[0m\u001b[0;34m:\u001b[0m\u001b[0;34m\u001b[0m\u001b[0;34m\u001b[0m\u001b[0m\n\u001b[1;32m    573\u001b[0m             raise ValueError(\"Found array with dim %d. %s expected <= 2.\"\n\u001b[0;32m--> 574\u001b[0;31m                              % (array.ndim, estimator_name))\n\u001b[0m\u001b[1;32m    575\u001b[0m \u001b[0;34m\u001b[0m\u001b[0m\n\u001b[1;32m    576\u001b[0m         \u001b[0;32mif\u001b[0m \u001b[0mforce_all_finite\u001b[0m\u001b[0;34m:\u001b[0m\u001b[0;34m\u001b[0m\u001b[0;34m\u001b[0m\u001b[0m\n",
            "\u001b[0;31mValueError\u001b[0m: Found array with dim 3. Estimator expected <= 2."
          ]
        }
      ]
    },
    {
      "cell_type": "code",
      "metadata": {
        "id": "z7pFBVgCEYUK"
      },
      "source": [
        "print(utils.multiclass.type_of_target(encoded))"
      ],
      "execution_count": null,
      "outputs": []
    },
    {
      "cell_type": "code",
      "metadata": {
        "id": "tn7vafbTEYUK"
      },
      "source": [
        "print(utils.multiclass.type_of_target(X_train.astype('int')))"
      ],
      "execution_count": null,
      "outputs": []
    },
    {
      "cell_type": "code",
      "metadata": {
        "id": "5WtWcM0CEYUK"
      },
      "source": [
        "print(utils.multiclass.type_of_target(X_test.astype('int')))"
      ],
      "execution_count": null,
      "outputs": []
    },
    {
      "cell_type": "code",
      "metadata": {
        "id": "RE9EUl7hEYUK"
      },
      "source": [
        "X_train = utils.multiclass.type_of_target(X_train.astype('int'))"
      ],
      "execution_count": null,
      "outputs": []
    },
    {
      "cell_type": "code",
      "metadata": {
        "id": "8Yop5Jobz-bs"
      },
      "source": [
        ""
      ],
      "execution_count": null,
      "outputs": []
    },
    {
      "cell_type": "code",
      "metadata": {
        "id": "_u9eGvLUz-ew"
      },
      "source": [
        "from sklearn.ensemble import RandomForestClassifier\n",
        "model = RandomForestClassifier(n_estimators=20)\n",
        "model.fit(X_train, y_train)"
      ],
      "execution_count": null,
      "outputs": []
    },
    {
      "cell_type": "code",
      "metadata": {
        "id": "J7vrfmPpz-je"
      },
      "source": [
        ""
      ],
      "execution_count": null,
      "outputs": []
    },
    {
      "cell_type": "code",
      "metadata": {
        "id": "oS6Wa7b4z-la"
      },
      "source": [
        ""
      ],
      "execution_count": null,
      "outputs": []
    },
    {
      "cell_type": "code",
      "metadata": {
        "id": "7qe0qNFOz-os"
      },
      "source": [
        ""
      ],
      "execution_count": null,
      "outputs": []
    },
    {
      "cell_type": "code",
      "metadata": {
        "id": "ViXA3lytz-sQ"
      },
      "source": [
        ""
      ],
      "execution_count": null,
      "outputs": []
    },
    {
      "cell_type": "code",
      "metadata": {
        "id": "Z43HfJZUz-wD"
      },
      "source": [
        ""
      ],
      "execution_count": null,
      "outputs": []
    },
    {
      "cell_type": "code",
      "metadata": {
        "id": "0ouqBEhXz-yM"
      },
      "source": [
        ""
      ],
      "execution_count": null,
      "outputs": []
    },
    {
      "cell_type": "code",
      "metadata": {
        "id": "xLmxNabcz-4K"
      },
      "source": [
        ""
      ],
      "execution_count": null,
      "outputs": []
    },
    {
      "cell_type": "code",
      "metadata": {
        "id": "4Xe64Tmxz-59"
      },
      "source": [
        ""
      ],
      "execution_count": null,
      "outputs": []
    },
    {
      "cell_type": "code",
      "metadata": {
        "id": "QP0WtvH3z-8u"
      },
      "source": [
        ""
      ],
      "execution_count": null,
      "outputs": []
    },
    {
      "cell_type": "code",
      "metadata": {
        "id": "lTg-EVHPz_A0"
      },
      "source": [
        ""
      ],
      "execution_count": null,
      "outputs": []
    },
    {
      "cell_type": "code",
      "metadata": {
        "id": "9dqv04w4z_By"
      },
      "source": [
        ""
      ],
      "execution_count": null,
      "outputs": []
    }
  ]
}